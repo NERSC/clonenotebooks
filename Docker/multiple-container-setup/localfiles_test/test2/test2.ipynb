{
 "cells": [
  {
   "cell_type": "markdown",
   "metadata": {},
   "source": [
    "# Geodemographic Segmentation Model\n",
    "\n",
    "Dataset: https://www.superdatascience.com/training/\n",
    "\n",
    "Author: Filipa C. S. Rodrigues (filipacsrodrigues@gmail.com)"
   ]
  },
  {
   "cell_type": "code",
   "execution_count": 1,
   "metadata": {
    "collapsed": false
   },
   "outputs": [
    {
     "name": "stderr",
     "output_type": "stream",
     "text": [
      "/usr/local/lib/python2.7/site-packages/matplotlib/font_manager.py:273: UserWarning: Matplotlib is building the font cache using fc-list. This may take a moment.\n",
      "  warnings.warn('Matplotlib is building the font cache using fc-list. This may take a moment.')\n"
     ]
    }
   ],
   "source": [
    "%matplotlib inline \n",
    "import warnings\n",
    "warnings.filterwarnings(\"ignore\")\n",
    "from __future__ import division\n",
    "import pandas\n",
    "import csv\n",
    "import numpy as np\n",
    "import statsmodels.api as sm\n",
    "import statsmodels.discrete.discrete_model as smdis\n",
    "import statsmodels.stats.outliers_influence as outliers\n",
    "import matplotlib.pyplot as plt"
   ]
  },
  {
   "cell_type": "code",
   "execution_count": 2,
   "metadata": {
    "collapsed": false
   },
   "outputs": [
    {
     "data": {
      "text/html": [
       "<div>\n",
       "<table border=\"1\" class=\"dataframe\">\n",
       "  <thead>\n",
       "    <tr style=\"text-align: right;\">\n",
       "      <th></th>\n",
       "      <th>RowNumber</th>\n",
       "      <th>CustomerId</th>\n",
       "      <th>Surname</th>\n",
       "      <th>CreditScore</th>\n",
       "      <th>Geography</th>\n",
       "      <th>Gender</th>\n",
       "      <th>Age</th>\n",
       "      <th>Tenure</th>\n",
       "      <th>Balance</th>\n",
       "      <th>NumOfProducts</th>\n",
       "      <th>HasCrCard</th>\n",
       "      <th>IsActiveMember</th>\n",
       "      <th>EstimatedSalary</th>\n",
       "      <th>Exited</th>\n",
       "    </tr>\n",
       "  </thead>\n",
       "  <tbody>\n",
       "    <tr>\n",
       "      <th>0</th>\n",
       "      <td>1</td>\n",
       "      <td>15634602</td>\n",
       "      <td>Hargrave</td>\n",
       "      <td>619</td>\n",
       "      <td>France</td>\n",
       "      <td>Female</td>\n",
       "      <td>42</td>\n",
       "      <td>2</td>\n",
       "      <td>0.00</td>\n",
       "      <td>1</td>\n",
       "      <td>1</td>\n",
       "      <td>1</td>\n",
       "      <td>101348.88</td>\n",
       "      <td>1</td>\n",
       "    </tr>\n",
       "    <tr>\n",
       "      <th>1</th>\n",
       "      <td>2</td>\n",
       "      <td>15647311</td>\n",
       "      <td>Hill</td>\n",
       "      <td>608</td>\n",
       "      <td>Spain</td>\n",
       "      <td>Female</td>\n",
       "      <td>41</td>\n",
       "      <td>1</td>\n",
       "      <td>83807.86</td>\n",
       "      <td>1</td>\n",
       "      <td>0</td>\n",
       "      <td>1</td>\n",
       "      <td>112542.58</td>\n",
       "      <td>0</td>\n",
       "    </tr>\n",
       "    <tr>\n",
       "      <th>2</th>\n",
       "      <td>3</td>\n",
       "      <td>15619304</td>\n",
       "      <td>Onio</td>\n",
       "      <td>502</td>\n",
       "      <td>France</td>\n",
       "      <td>Female</td>\n",
       "      <td>42</td>\n",
       "      <td>8</td>\n",
       "      <td>159660.80</td>\n",
       "      <td>3</td>\n",
       "      <td>1</td>\n",
       "      <td>0</td>\n",
       "      <td>113931.57</td>\n",
       "      <td>1</td>\n",
       "    </tr>\n",
       "    <tr>\n",
       "      <th>3</th>\n",
       "      <td>4</td>\n",
       "      <td>15701354</td>\n",
       "      <td>Boni</td>\n",
       "      <td>699</td>\n",
       "      <td>France</td>\n",
       "      <td>Female</td>\n",
       "      <td>39</td>\n",
       "      <td>1</td>\n",
       "      <td>0.00</td>\n",
       "      <td>2</td>\n",
       "      <td>0</td>\n",
       "      <td>0</td>\n",
       "      <td>93826.63</td>\n",
       "      <td>0</td>\n",
       "    </tr>\n",
       "    <tr>\n",
       "      <th>4</th>\n",
       "      <td>5</td>\n",
       "      <td>15737888</td>\n",
       "      <td>Mitchell</td>\n",
       "      <td>850</td>\n",
       "      <td>Spain</td>\n",
       "      <td>Female</td>\n",
       "      <td>43</td>\n",
       "      <td>2</td>\n",
       "      <td>125510.82</td>\n",
       "      <td>1</td>\n",
       "      <td>1</td>\n",
       "      <td>1</td>\n",
       "      <td>79084.10</td>\n",
       "      <td>0</td>\n",
       "    </tr>\n",
       "  </tbody>\n",
       "</table>\n",
       "</div>"
      ],
      "text/plain": [
       "   RowNumber  CustomerId   Surname  CreditScore Geography  Gender  Age  \\\n",
       "0          1    15634602  Hargrave          619    France  Female   42   \n",
       "1          2    15647311      Hill          608     Spain  Female   41   \n",
       "2          3    15619304      Onio          502    France  Female   42   \n",
       "3          4    15701354      Boni          699    France  Female   39   \n",
       "4          5    15737888  Mitchell          850     Spain  Female   43   \n",
       "\n",
       "   Tenure    Balance  NumOfProducts  HasCrCard  IsActiveMember  \\\n",
       "0       2       0.00              1          1               1   \n",
       "1       1   83807.86              1          0               1   \n",
       "2       8  159660.80              3          1               0   \n",
       "3       1       0.00              2          0               0   \n",
       "4       2  125510.82              1          1               1   \n",
       "\n",
       "   EstimatedSalary  Exited  \n",
       "0        101348.88       1  \n",
       "1        112542.58       0  \n",
       "2        113931.57       1  \n",
       "3         93826.63       0  \n",
       "4         79084.10       0  "
      ]
     },
     "execution_count": 2,
     "metadata": {},
     "output_type": "execute_result"
    }
   ],
   "source": [
    "df = pandas.DataFrame.from_csv('Churn-Modelling.csv', index_col=None)\n",
    "df[:5]"
   ]
  },
  {
   "cell_type": "markdown",
   "metadata": {},
   "source": [
    "#### Variables\n",
    "\n",
    "- Exited: dependent variable (y) -->  is binary\n",
    "- Gender, Geography: categorical independent variable (x)\n",
    "- All the remaining variables: numeric independent variable (x)"
   ]
  },
  {
   "cell_type": "code",
   "execution_count": 3,
   "metadata": {
    "collapsed": false
   },
   "outputs": [],
   "source": [
    "df_y = df['Exited']\n",
    "df_x = df.drop(['Exited'], axis = 1)"
   ]
  },
  {
   "cell_type": "markdown",
   "metadata": {},
   "source": [
    "Create dummy variables for the categorical variables:"
   ]
  },
  {
   "cell_type": "code",
   "execution_count": 4,
   "metadata": {
    "collapsed": false
   },
   "outputs": [
    {
     "data": {
      "text/html": [
       "<div>\n",
       "<table border=\"1\" class=\"dataframe\">\n",
       "  <thead>\n",
       "    <tr style=\"text-align: right;\">\n",
       "      <th></th>\n",
       "      <th>France</th>\n",
       "      <th>Germany</th>\n",
       "      <th>Spain</th>\n",
       "      <th>Female</th>\n",
       "      <th>Male</th>\n",
       "      <th>RowNumber</th>\n",
       "      <th>CustomerId</th>\n",
       "      <th>Surname</th>\n",
       "      <th>CreditScore</th>\n",
       "      <th>Geography</th>\n",
       "      <th>Gender</th>\n",
       "      <th>Age</th>\n",
       "      <th>Tenure</th>\n",
       "      <th>Balance</th>\n",
       "      <th>NumOfProducts</th>\n",
       "      <th>HasCrCard</th>\n",
       "      <th>IsActiveMember</th>\n",
       "      <th>EstimatedSalary</th>\n",
       "    </tr>\n",
       "  </thead>\n",
       "  <tbody>\n",
       "    <tr>\n",
       "      <th>0</th>\n",
       "      <td>1</td>\n",
       "      <td>0</td>\n",
       "      <td>0</td>\n",
       "      <td>1</td>\n",
       "      <td>0</td>\n",
       "      <td>1</td>\n",
       "      <td>15634602</td>\n",
       "      <td>Hargrave</td>\n",
       "      <td>619</td>\n",
       "      <td>France</td>\n",
       "      <td>Female</td>\n",
       "      <td>42</td>\n",
       "      <td>2</td>\n",
       "      <td>0.00</td>\n",
       "      <td>1</td>\n",
       "      <td>1</td>\n",
       "      <td>1</td>\n",
       "      <td>101348.88</td>\n",
       "    </tr>\n",
       "    <tr>\n",
       "      <th>1</th>\n",
       "      <td>0</td>\n",
       "      <td>0</td>\n",
       "      <td>1</td>\n",
       "      <td>1</td>\n",
       "      <td>0</td>\n",
       "      <td>2</td>\n",
       "      <td>15647311</td>\n",
       "      <td>Hill</td>\n",
       "      <td>608</td>\n",
       "      <td>Spain</td>\n",
       "      <td>Female</td>\n",
       "      <td>41</td>\n",
       "      <td>1</td>\n",
       "      <td>83807.86</td>\n",
       "      <td>1</td>\n",
       "      <td>0</td>\n",
       "      <td>1</td>\n",
       "      <td>112542.58</td>\n",
       "    </tr>\n",
       "    <tr>\n",
       "      <th>2</th>\n",
       "      <td>1</td>\n",
       "      <td>0</td>\n",
       "      <td>0</td>\n",
       "      <td>1</td>\n",
       "      <td>0</td>\n",
       "      <td>3</td>\n",
       "      <td>15619304</td>\n",
       "      <td>Onio</td>\n",
       "      <td>502</td>\n",
       "      <td>France</td>\n",
       "      <td>Female</td>\n",
       "      <td>42</td>\n",
       "      <td>8</td>\n",
       "      <td>159660.80</td>\n",
       "      <td>3</td>\n",
       "      <td>1</td>\n",
       "      <td>0</td>\n",
       "      <td>113931.57</td>\n",
       "    </tr>\n",
       "    <tr>\n",
       "      <th>3</th>\n",
       "      <td>1</td>\n",
       "      <td>0</td>\n",
       "      <td>0</td>\n",
       "      <td>1</td>\n",
       "      <td>0</td>\n",
       "      <td>4</td>\n",
       "      <td>15701354</td>\n",
       "      <td>Boni</td>\n",
       "      <td>699</td>\n",
       "      <td>France</td>\n",
       "      <td>Female</td>\n",
       "      <td>39</td>\n",
       "      <td>1</td>\n",
       "      <td>0.00</td>\n",
       "      <td>2</td>\n",
       "      <td>0</td>\n",
       "      <td>0</td>\n",
       "      <td>93826.63</td>\n",
       "    </tr>\n",
       "    <tr>\n",
       "      <th>4</th>\n",
       "      <td>0</td>\n",
       "      <td>0</td>\n",
       "      <td>1</td>\n",
       "      <td>1</td>\n",
       "      <td>0</td>\n",
       "      <td>5</td>\n",
       "      <td>15737888</td>\n",
       "      <td>Mitchell</td>\n",
       "      <td>850</td>\n",
       "      <td>Spain</td>\n",
       "      <td>Female</td>\n",
       "      <td>43</td>\n",
       "      <td>2</td>\n",
       "      <td>125510.82</td>\n",
       "      <td>1</td>\n",
       "      <td>1</td>\n",
       "      <td>1</td>\n",
       "      <td>79084.10</td>\n",
       "    </tr>\n",
       "  </tbody>\n",
       "</table>\n",
       "</div>"
      ],
      "text/plain": [
       "   France  Germany  Spain  Female  Male  RowNumber  CustomerId   Surname  \\\n",
       "0       1        0      0       1     0          1    15634602  Hargrave   \n",
       "1       0        0      1       1     0          2    15647311      Hill   \n",
       "2       1        0      0       1     0          3    15619304      Onio   \n",
       "3       1        0      0       1     0          4    15701354      Boni   \n",
       "4       0        0      1       1     0          5    15737888  Mitchell   \n",
       "\n",
       "   CreditScore Geography  Gender  Age  Tenure    Balance  NumOfProducts  \\\n",
       "0          619    France  Female   42       2       0.00              1   \n",
       "1          608     Spain  Female   41       1   83807.86              1   \n",
       "2          502    France  Female   42       8  159660.80              3   \n",
       "3          699    France  Female   39       1       0.00              2   \n",
       "4          850     Spain  Female   43       2  125510.82              1   \n",
       "\n",
       "   HasCrCard  IsActiveMember  EstimatedSalary  \n",
       "0          1               1        101348.88  \n",
       "1          0               1        112542.58  \n",
       "2          1               0        113931.57  \n",
       "3          0               0         93826.63  \n",
       "4          1               1         79084.10  "
      ]
     },
     "execution_count": 4,
     "metadata": {},
     "output_type": "execute_result"
    }
   ],
   "source": [
    "dummy = pandas.get_dummies(df_x['Gender'])\n",
    "df_x = dummy.join(df_x)\n",
    "dummy = pandas.get_dummies(df_x['Geography'])\n",
    "df_x = dummy.join(df_x)\n",
    "df_x[:5]"
   ]
  },
  {
   "cell_type": "markdown",
   "metadata": {},
   "source": [
    "Only one dummy variable should be used to avoid the \"dummy variable trap\":"
   ]
  },
  {
   "cell_type": "code",
   "execution_count": 5,
   "metadata": {
    "collapsed": false
   },
   "outputs": [
    {
     "data": {
      "text/html": [
       "<div>\n",
       "<table border=\"1\" class=\"dataframe\">\n",
       "  <thead>\n",
       "    <tr style=\"text-align: right;\">\n",
       "      <th></th>\n",
       "      <th>Germany</th>\n",
       "      <th>Spain</th>\n",
       "      <th>Female</th>\n",
       "      <th>RowNumber</th>\n",
       "      <th>CustomerId</th>\n",
       "      <th>Surname</th>\n",
       "      <th>CreditScore</th>\n",
       "      <th>Age</th>\n",
       "      <th>Tenure</th>\n",
       "      <th>Balance</th>\n",
       "      <th>NumOfProducts</th>\n",
       "      <th>HasCrCard</th>\n",
       "      <th>IsActiveMember</th>\n",
       "      <th>EstimatedSalary</th>\n",
       "    </tr>\n",
       "  </thead>\n",
       "  <tbody>\n",
       "    <tr>\n",
       "      <th>0</th>\n",
       "      <td>0</td>\n",
       "      <td>0</td>\n",
       "      <td>1</td>\n",
       "      <td>1</td>\n",
       "      <td>15634602</td>\n",
       "      <td>Hargrave</td>\n",
       "      <td>619</td>\n",
       "      <td>42</td>\n",
       "      <td>2</td>\n",
       "      <td>0.00</td>\n",
       "      <td>1</td>\n",
       "      <td>1</td>\n",
       "      <td>1</td>\n",
       "      <td>101348.88</td>\n",
       "    </tr>\n",
       "    <tr>\n",
       "      <th>1</th>\n",
       "      <td>0</td>\n",
       "      <td>1</td>\n",
       "      <td>1</td>\n",
       "      <td>2</td>\n",
       "      <td>15647311</td>\n",
       "      <td>Hill</td>\n",
       "      <td>608</td>\n",
       "      <td>41</td>\n",
       "      <td>1</td>\n",
       "      <td>83807.86</td>\n",
       "      <td>1</td>\n",
       "      <td>0</td>\n",
       "      <td>1</td>\n",
       "      <td>112542.58</td>\n",
       "    </tr>\n",
       "    <tr>\n",
       "      <th>2</th>\n",
       "      <td>0</td>\n",
       "      <td>0</td>\n",
       "      <td>1</td>\n",
       "      <td>3</td>\n",
       "      <td>15619304</td>\n",
       "      <td>Onio</td>\n",
       "      <td>502</td>\n",
       "      <td>42</td>\n",
       "      <td>8</td>\n",
       "      <td>159660.80</td>\n",
       "      <td>3</td>\n",
       "      <td>1</td>\n",
       "      <td>0</td>\n",
       "      <td>113931.57</td>\n",
       "    </tr>\n",
       "    <tr>\n",
       "      <th>3</th>\n",
       "      <td>0</td>\n",
       "      <td>0</td>\n",
       "      <td>1</td>\n",
       "      <td>4</td>\n",
       "      <td>15701354</td>\n",
       "      <td>Boni</td>\n",
       "      <td>699</td>\n",
       "      <td>39</td>\n",
       "      <td>1</td>\n",
       "      <td>0.00</td>\n",
       "      <td>2</td>\n",
       "      <td>0</td>\n",
       "      <td>0</td>\n",
       "      <td>93826.63</td>\n",
       "    </tr>\n",
       "    <tr>\n",
       "      <th>4</th>\n",
       "      <td>0</td>\n",
       "      <td>1</td>\n",
       "      <td>1</td>\n",
       "      <td>5</td>\n",
       "      <td>15737888</td>\n",
       "      <td>Mitchell</td>\n",
       "      <td>850</td>\n",
       "      <td>43</td>\n",
       "      <td>2</td>\n",
       "      <td>125510.82</td>\n",
       "      <td>1</td>\n",
       "      <td>1</td>\n",
       "      <td>1</td>\n",
       "      <td>79084.10</td>\n",
       "    </tr>\n",
       "  </tbody>\n",
       "</table>\n",
       "</div>"
      ],
      "text/plain": [
       "   Germany  Spain  Female  RowNumber  CustomerId   Surname  CreditScore  Age  \\\n",
       "0        0      0       1          1    15634602  Hargrave          619   42   \n",
       "1        0      1       1          2    15647311      Hill          608   41   \n",
       "2        0      0       1          3    15619304      Onio          502   42   \n",
       "3        0      0       1          4    15701354      Boni          699   39   \n",
       "4        0      1       1          5    15737888  Mitchell          850   43   \n",
       "\n",
       "   Tenure    Balance  NumOfProducts  HasCrCard  IsActiveMember  \\\n",
       "0       2       0.00              1          1               1   \n",
       "1       1   83807.86              1          0               1   \n",
       "2       8  159660.80              3          1               0   \n",
       "3       1       0.00              2          0               0   \n",
       "4       2  125510.82              1          1               1   \n",
       "\n",
       "   EstimatedSalary  \n",
       "0        101348.88  \n",
       "1        112542.58  \n",
       "2        113931.57  \n",
       "3         93826.63  \n",
       "4         79084.10  "
      ]
     },
     "execution_count": 5,
     "metadata": {},
     "output_type": "execute_result"
    }
   ],
   "source": [
    "df_x = df_x.drop(['Gender', 'Male', 'France', 'Geography'], axis =1)\n",
    "df_x[:5]"
   ]
  },
  {
   "cell_type": "markdown",
   "metadata": {},
   "source": [
    "Add a constant \\begin{align} b_0 \\end{align} to the model:"
   ]
  },
  {
   "cell_type": "code",
   "execution_count": 6,
   "metadata": {
    "collapsed": false
   },
   "outputs": [
    {
     "data": {
      "text/html": [
       "<div>\n",
       "<table border=\"1\" class=\"dataframe\">\n",
       "  <thead>\n",
       "    <tr style=\"text-align: right;\">\n",
       "      <th></th>\n",
       "      <th>const</th>\n",
       "      <th>Germany</th>\n",
       "      <th>Spain</th>\n",
       "      <th>Female</th>\n",
       "      <th>RowNumber</th>\n",
       "      <th>CustomerId</th>\n",
       "      <th>Surname</th>\n",
       "      <th>CreditScore</th>\n",
       "      <th>Age</th>\n",
       "      <th>Tenure</th>\n",
       "      <th>Balance</th>\n",
       "      <th>NumOfProducts</th>\n",
       "      <th>HasCrCard</th>\n",
       "      <th>IsActiveMember</th>\n",
       "      <th>EstimatedSalary</th>\n",
       "    </tr>\n",
       "  </thead>\n",
       "  <tbody>\n",
       "    <tr>\n",
       "      <th>0</th>\n",
       "      <td>1</td>\n",
       "      <td>0</td>\n",
       "      <td>0</td>\n",
       "      <td>1</td>\n",
       "      <td>1</td>\n",
       "      <td>15634602</td>\n",
       "      <td>Hargrave</td>\n",
       "      <td>619</td>\n",
       "      <td>42</td>\n",
       "      <td>2</td>\n",
       "      <td>0.00</td>\n",
       "      <td>1</td>\n",
       "      <td>1</td>\n",
       "      <td>1</td>\n",
       "      <td>101348.88</td>\n",
       "    </tr>\n",
       "    <tr>\n",
       "      <th>1</th>\n",
       "      <td>1</td>\n",
       "      <td>0</td>\n",
       "      <td>1</td>\n",
       "      <td>1</td>\n",
       "      <td>2</td>\n",
       "      <td>15647311</td>\n",
       "      <td>Hill</td>\n",
       "      <td>608</td>\n",
       "      <td>41</td>\n",
       "      <td>1</td>\n",
       "      <td>83807.86</td>\n",
       "      <td>1</td>\n",
       "      <td>0</td>\n",
       "      <td>1</td>\n",
       "      <td>112542.58</td>\n",
       "    </tr>\n",
       "  </tbody>\n",
       "</table>\n",
       "</div>"
      ],
      "text/plain": [
       "   const  Germany  Spain  Female  RowNumber  CustomerId   Surname  \\\n",
       "0      1        0      0       1          1    15634602  Hargrave   \n",
       "1      1        0      1       1          2    15647311      Hill   \n",
       "\n",
       "   CreditScore  Age  Tenure   Balance  NumOfProducts  HasCrCard  \\\n",
       "0          619   42       2      0.00              1          1   \n",
       "1          608   41       1  83807.86              1          0   \n",
       "\n",
       "   IsActiveMember  EstimatedSalary  \n",
       "0               1        101348.88  \n",
       "1               1        112542.58  "
      ]
     },
     "execution_count": 6,
     "metadata": {},
     "output_type": "execute_result"
    }
   ],
   "source": [
    "df_x = sm.add_constant(df_x)\n",
    "df_x[:2]"
   ]
  },
  {
   "cell_type": "markdown",
   "metadata": {},
   "source": [
    "Exclude the variables that should not affect the model:"
   ]
  },
  {
   "cell_type": "code",
   "execution_count": 7,
   "metadata": {
    "collapsed": false
   },
   "outputs": [
    {
     "data": {
      "text/html": [
       "<div>\n",
       "<table border=\"1\" class=\"dataframe\">\n",
       "  <thead>\n",
       "    <tr style=\"text-align: right;\">\n",
       "      <th></th>\n",
       "      <th>const</th>\n",
       "      <th>Germany</th>\n",
       "      <th>Spain</th>\n",
       "      <th>Female</th>\n",
       "      <th>CreditScore</th>\n",
       "      <th>Age</th>\n",
       "      <th>Tenure</th>\n",
       "      <th>Balance</th>\n",
       "      <th>NumOfProducts</th>\n",
       "      <th>HasCrCard</th>\n",
       "      <th>IsActiveMember</th>\n",
       "      <th>EstimatedSalary</th>\n",
       "    </tr>\n",
       "  </thead>\n",
       "  <tbody>\n",
       "    <tr>\n",
       "      <th>0</th>\n",
       "      <td>1</td>\n",
       "      <td>0</td>\n",
       "      <td>0</td>\n",
       "      <td>1</td>\n",
       "      <td>619</td>\n",
       "      <td>42</td>\n",
       "      <td>2</td>\n",
       "      <td>0.00</td>\n",
       "      <td>1</td>\n",
       "      <td>1</td>\n",
       "      <td>1</td>\n",
       "      <td>101348.88</td>\n",
       "    </tr>\n",
       "    <tr>\n",
       "      <th>1</th>\n",
       "      <td>1</td>\n",
       "      <td>0</td>\n",
       "      <td>1</td>\n",
       "      <td>1</td>\n",
       "      <td>608</td>\n",
       "      <td>41</td>\n",
       "      <td>1</td>\n",
       "      <td>83807.86</td>\n",
       "      <td>1</td>\n",
       "      <td>0</td>\n",
       "      <td>1</td>\n",
       "      <td>112542.58</td>\n",
       "    </tr>\n",
       "  </tbody>\n",
       "</table>\n",
       "</div>"
      ],
      "text/plain": [
       "   const  Germany  Spain  Female  CreditScore  Age  Tenure   Balance  \\\n",
       "0      1        0      0       1          619   42       2      0.00   \n",
       "1      1        0      1       1          608   41       1  83807.86   \n",
       "\n",
       "   NumOfProducts  HasCrCard  IsActiveMember  EstimatedSalary  \n",
       "0              1          1               1        101348.88  \n",
       "1              1          0               1        112542.58  "
      ]
     },
     "execution_count": 7,
     "metadata": {},
     "output_type": "execute_result"
    }
   ],
   "source": [
    "df_x = df_x.drop(['RowNumber', 'CustomerId', 'Surname'], axis = 1)\n",
    "df_x[:2]"
   ]
  },
  {
   "cell_type": "markdown",
   "metadata": {},
   "source": [
    "Create a model with all the remaining variables:"
   ]
  },
  {
   "cell_type": "code",
   "execution_count": 8,
   "metadata": {
    "collapsed": false
   },
   "outputs": [
    {
     "name": "stdout",
     "output_type": "stream",
     "text": [
      "Optimization terminated successfully.\n",
      "         Current function value: 0.428068\n",
      "         Iterations 6\n",
      "                           Logit Regression Results                           \n",
      "==============================================================================\n",
      "Dep. Variable:                 Exited   No. Observations:                10000\n",
      "Model:                          Logit   Df Residuals:                     9988\n",
      "Method:                           MLE   Df Model:                           11\n",
      "Date:                Wed, 28 Dec 2016   Pseudo R-squ.:                  0.1532\n",
      "Time:                        13:04:11   Log-Likelihood:                -4280.7\n",
      "converged:                       True   LL-Null:                       -5054.9\n",
      "                                        LLR p-value:                     0.000\n",
      "===================================================================================\n",
      "                      coef    std err          z      P>|z|      [95.0% Conf. Int.]\n",
      "-----------------------------------------------------------------------------------\n",
      "const              -3.9208      0.245    -15.980      0.000        -4.402    -3.440\n",
      "Germany             0.7747      0.068     11.448      0.000         0.642     0.907\n",
      "Spain               0.0352      0.071      0.499      0.618        -0.103     0.174\n",
      "Female              0.5285      0.054      9.699      0.000         0.422     0.635\n",
      "CreditScore        -0.0007      0.000     -2.384      0.017        -0.001    -0.000\n",
      "Age                 0.0727      0.003     28.230      0.000         0.068     0.078\n",
      "Tenure             -0.0159      0.009     -1.705      0.088        -0.034     0.002\n",
      "Balance          2.637e-06   5.14e-07      5.128      0.000      1.63e-06  3.64e-06\n",
      "NumOfProducts      -0.1015      0.047     -2.154      0.031        -0.194    -0.009\n",
      "HasCrCard          -0.0447      0.059     -0.753      0.452        -0.161     0.072\n",
      "IsActiveMember     -1.0754      0.058    -18.643      0.000        -1.189    -0.962\n",
      "EstimatedSalary  4.807e-07   4.74e-07      1.015      0.310     -4.48e-07  1.41e-06\n",
      "===================================================================================\n",
      "\n",
      "_____P-values____\n",
      "const               1.759879e-57\n",
      "Germany             2.413604e-30\n",
      "Spain               6.180842e-01\n",
      "Female              3.044696e-22\n",
      "CreditScore         1.712765e-02\n",
      "Age                2.521111e-175\n",
      "Tenure              8.821318e-02\n",
      "Balance             2.922724e-07\n",
      "NumOfProducts       3.124760e-02\n",
      "HasCrCard           4.515135e-01\n",
      "IsActiveMember      1.434412e-77\n",
      "EstimatedSalary     3.101752e-01\n",
      "dtype: float64\n",
      "\n",
      "_____Highest p-value____\n",
      "\n",
      " Spain    0.618084\n",
      "dtype: float64 \n",
      "\n",
      "\n",
      "____Confusion Matrix___\n",
      "[[ 7666.   297.]\n",
      " [ 1600.   437.]]\n",
      "\n",
      "Number of cases correctly predicted: 8103.0 (81.03 %)\n"
     ]
    }
   ],
   "source": [
    "model1 = smdis.Logit(df_y, df_x).fit()\n",
    "print model1.summary()\n",
    "print \"\\n_____P-values____\"\n",
    "p = model1.pvalues\n",
    "print p\n",
    "print \"\\n_____Highest p-value____\"\n",
    "print \"\\n %s \\n\" % p[p ==max(p)]\n",
    "print \"\\n____Confusion Matrix___\"\n",
    "cm = model1.pred_table()\n",
    "print cm\n",
    "print \"\\nNumber of cases correctly predicted: %s (%s %%)\" % (cm[0][0] + cm[1][1], (cm[0][0] + cm[1][1])*100/np.sum(cm))"
   ]
  },
  {
   "cell_type": "markdown",
   "metadata": {},
   "source": [
    "Note: \n",
    "\n",
    "__\"Pseudo R-squ.\"__ -  pseudo R-squared. \n",
    "Logistic regression does not have an equivalent to the R-squared that is found in OLS regression; however, many people have tried to come up with one.  There are a wide variety of pseudo-R-square statistics.  Because this statistic does not mean what R-square means in OLS regression (the proportion of variance explained by the predictors), we suggest interpreting this statistic with great caution.        (source: http://www.ats.ucla.edu/stat/stata/output/stata_logistic.htm) \n",
    "\n"
   ]
  },
  {
   "cell_type": "markdown",
   "metadata": {},
   "source": [
    "__Backward Elimination__"
   ]
  },
  {
   "cell_type": "markdown",
   "metadata": {},
   "source": [
    "New model without the variable with the highest p-value: \"Spain\""
   ]
  },
  {
   "cell_type": "code",
   "execution_count": 9,
   "metadata": {
    "collapsed": false
   },
   "outputs": [
    {
     "data": {
      "text/html": [
       "<div>\n",
       "<table border=\"1\" class=\"dataframe\">\n",
       "  <thead>\n",
       "    <tr style=\"text-align: right;\">\n",
       "      <th></th>\n",
       "      <th>const</th>\n",
       "      <th>Germany</th>\n",
       "      <th>Female</th>\n",
       "      <th>CreditScore</th>\n",
       "      <th>Age</th>\n",
       "      <th>Tenure</th>\n",
       "      <th>Balance</th>\n",
       "      <th>NumOfProducts</th>\n",
       "      <th>HasCrCard</th>\n",
       "      <th>IsActiveMember</th>\n",
       "      <th>EstimatedSalary</th>\n",
       "    </tr>\n",
       "  </thead>\n",
       "  <tbody>\n",
       "    <tr>\n",
       "      <th>0</th>\n",
       "      <td>1</td>\n",
       "      <td>0</td>\n",
       "      <td>1</td>\n",
       "      <td>619</td>\n",
       "      <td>42</td>\n",
       "      <td>2</td>\n",
       "      <td>0.00</td>\n",
       "      <td>1</td>\n",
       "      <td>1</td>\n",
       "      <td>1</td>\n",
       "      <td>101348.88</td>\n",
       "    </tr>\n",
       "    <tr>\n",
       "      <th>1</th>\n",
       "      <td>1</td>\n",
       "      <td>0</td>\n",
       "      <td>1</td>\n",
       "      <td>608</td>\n",
       "      <td>41</td>\n",
       "      <td>1</td>\n",
       "      <td>83807.86</td>\n",
       "      <td>1</td>\n",
       "      <td>0</td>\n",
       "      <td>1</td>\n",
       "      <td>112542.58</td>\n",
       "    </tr>\n",
       "  </tbody>\n",
       "</table>\n",
       "</div>"
      ],
      "text/plain": [
       "   const  Germany  Female  CreditScore  Age  Tenure   Balance  NumOfProducts  \\\n",
       "0      1        0       1          619   42       2      0.00              1   \n",
       "1      1        0       1          608   41       1  83807.86              1   \n",
       "\n",
       "   HasCrCard  IsActiveMember  EstimatedSalary  \n",
       "0          1               1        101348.88  \n",
       "1          0               1        112542.58  "
      ]
     },
     "execution_count": 9,
     "metadata": {},
     "output_type": "execute_result"
    }
   ],
   "source": [
    "df_x1 = df_x.drop(['Spain'], axis = 1)\n",
    "df_x1[:2]"
   ]
  },
  {
   "cell_type": "code",
   "execution_count": 10,
   "metadata": {
    "collapsed": false
   },
   "outputs": [
    {
     "name": "stdout",
     "output_type": "stream",
     "text": [
      "Optimization terminated successfully.\n",
      "         Current function value: 0.428080\n",
      "         Iterations 6\n",
      "                           Logit Regression Results                           \n",
      "==============================================================================\n",
      "Dep. Variable:                 Exited   No. Observations:                10000\n",
      "Model:                          Logit   Df Residuals:                     9989\n",
      "Method:                           MLE   Df Model:                           10\n",
      "Date:                Wed, 28 Dec 2016   Pseudo R-squ.:                  0.1531\n",
      "Time:                        13:04:12   Log-Likelihood:                -4280.8\n",
      "converged:                       True   LL-Null:                       -5054.9\n",
      "                                        LLR p-value:                     0.000\n",
      "===================================================================================\n",
      "                      coef    std err          z      P>|z|      [95.0% Conf. Int.]\n",
      "-----------------------------------------------------------------------------------\n",
      "const              -3.9110      0.245    -15.994      0.000        -4.390    -3.432\n",
      "Germany             0.7629      0.063     12.041      0.000         0.639     0.887\n",
      "Female              0.5283      0.054      9.697      0.000         0.422     0.635\n",
      "CreditScore        -0.0007      0.000     -2.378      0.017        -0.001    -0.000\n",
      "Age                 0.0727      0.003     28.238      0.000         0.068     0.078\n",
      "Tenure             -0.0160      0.009     -1.708      0.088        -0.034     0.002\n",
      "Balance          2.637e-06   5.14e-07      5.129      0.000      1.63e-06  3.65e-06\n",
      "NumOfProducts      -0.1013      0.047     -2.149      0.032        -0.194    -0.009\n",
      "HasCrCard          -0.0449      0.059     -0.757      0.449        -0.161     0.071\n",
      "IsActiveMember     -1.0752      0.058    -18.640      0.000        -1.188    -0.962\n",
      "EstimatedSalary  4.813e-07   4.74e-07      1.016      0.310     -4.47e-07  1.41e-06\n",
      "===================================================================================\n",
      "\n",
      "_____P-values____\n",
      "const               1.405607e-57\n",
      "Germany             2.162265e-33\n",
      "Female              3.114487e-22\n",
      "CreditScore         1.739401e-02\n",
      "Age                1.996715e-175\n",
      "Tenure              8.764548e-02\n",
      "Balance             2.913057e-07\n",
      "NumOfProducts       3.161546e-02\n",
      "HasCrCard           4.489327e-01\n",
      "IsActiveMember      1.531167e-77\n",
      "EstimatedSalary     3.095145e-01\n",
      "dtype: float64\n",
      "\n",
      "_____Highest p-value____\n",
      "\n",
      " HasCrCard    0.448933\n",
      "dtype: float64 \n",
      "\n",
      "\n",
      "____Confusion Matrix___\n",
      "[[ 7665.   298.]\n",
      " [ 1602.   435.]]\n",
      "\n",
      "Number of cases correctly predicted: 8100.0 (81.0 %)\n"
     ]
    }
   ],
   "source": [
    "model2 = smdis.Logit(df_y, df_x1).fit()\n",
    "print model2.summary()\n",
    "print \"\\n_____P-values____\"\n",
    "p = model2.pvalues\n",
    "print p\n",
    "print \"\\n_____Highest p-value____\"\n",
    "print \"\\n %s \\n\" % p[p ==max(p)]\n",
    "print \"\\n____Confusion Matrix___\"\n",
    "cm = model2.pred_table()\n",
    "print cm\n",
    "print \"\\nNumber of cases correctly predicted: %s (%s %%)\" % (cm[0][0] + cm[1][1], (cm[0][0] + cm[1][1])*100/np.sum(cm))"
   ]
  },
  {
   "cell_type": "markdown",
   "metadata": {},
   "source": [
    "New model without the variable with the highest p-value: \"HasCrCard\""
   ]
  },
  {
   "cell_type": "code",
   "execution_count": 11,
   "metadata": {
    "collapsed": false
   },
   "outputs": [
    {
     "data": {
      "text/html": [
       "<div>\n",
       "<table border=\"1\" class=\"dataframe\">\n",
       "  <thead>\n",
       "    <tr style=\"text-align: right;\">\n",
       "      <th></th>\n",
       "      <th>const</th>\n",
       "      <th>Germany</th>\n",
       "      <th>Female</th>\n",
       "      <th>CreditScore</th>\n",
       "      <th>Age</th>\n",
       "      <th>Tenure</th>\n",
       "      <th>Balance</th>\n",
       "      <th>NumOfProducts</th>\n",
       "      <th>IsActiveMember</th>\n",
       "      <th>EstimatedSalary</th>\n",
       "    </tr>\n",
       "  </thead>\n",
       "  <tbody>\n",
       "    <tr>\n",
       "      <th>0</th>\n",
       "      <td>1</td>\n",
       "      <td>0</td>\n",
       "      <td>1</td>\n",
       "      <td>619</td>\n",
       "      <td>42</td>\n",
       "      <td>2</td>\n",
       "      <td>0.00</td>\n",
       "      <td>1</td>\n",
       "      <td>1</td>\n",
       "      <td>101348.88</td>\n",
       "    </tr>\n",
       "    <tr>\n",
       "      <th>1</th>\n",
       "      <td>1</td>\n",
       "      <td>0</td>\n",
       "      <td>1</td>\n",
       "      <td>608</td>\n",
       "      <td>41</td>\n",
       "      <td>1</td>\n",
       "      <td>83807.86</td>\n",
       "      <td>1</td>\n",
       "      <td>1</td>\n",
       "      <td>112542.58</td>\n",
       "    </tr>\n",
       "  </tbody>\n",
       "</table>\n",
       "</div>"
      ],
      "text/plain": [
       "   const  Germany  Female  CreditScore  Age  Tenure   Balance  NumOfProducts  \\\n",
       "0      1        0       1          619   42       2      0.00              1   \n",
       "1      1        0       1          608   41       1  83807.86              1   \n",
       "\n",
       "   IsActiveMember  EstimatedSalary  \n",
       "0               1        101348.88  \n",
       "1               1        112542.58  "
      ]
     },
     "execution_count": 11,
     "metadata": {},
     "output_type": "execute_result"
    }
   ],
   "source": [
    "df_x2 = df_x1.drop(['HasCrCard'], axis = 1)\n",
    "df_x2[:2]"
   ]
  },
  {
   "cell_type": "code",
   "execution_count": 12,
   "metadata": {
    "collapsed": false
   },
   "outputs": [
    {
     "name": "stdout",
     "output_type": "stream",
     "text": [
      "Optimization terminated successfully.\n",
      "         Current function value: 0.428109\n",
      "         Iterations 6\n",
      "                           Logit Regression Results                           \n",
      "==============================================================================\n",
      "Dep. Variable:                 Exited   No. Observations:                10000\n",
      "Model:                          Logit   Df Residuals:                     9990\n",
      "Method:                           MLE   Df Model:                            9\n",
      "Date:                Wed, 28 Dec 2016   Pseudo R-squ.:                  0.1531\n",
      "Time:                        13:04:12   Log-Likelihood:                -4281.1\n",
      "converged:                       True   LL-Null:                       -5054.9\n",
      "                                        LLR p-value:                     0.000\n",
      "===================================================================================\n",
      "                      coef    std err          z      P>|z|      [95.0% Conf. Int.]\n",
      "-----------------------------------------------------------------------------------\n",
      "const              -3.9444      0.241    -16.395      0.000        -4.416    -3.473\n",
      "Germany             0.7619      0.063     12.028      0.000         0.638     0.886\n",
      "Female              0.5285      0.054      9.700      0.000         0.422     0.635\n",
      "CreditScore        -0.0007      0.000     -2.369      0.018        -0.001    -0.000\n",
      "Age                 0.0727      0.003     28.243      0.000         0.068     0.078\n",
      "Tenure             -0.0162      0.009     -1.727      0.084        -0.034     0.002\n",
      "Balance          2.645e-06   5.14e-07      5.146      0.000      1.64e-06  3.65e-06\n",
      "NumOfProducts      -0.1013      0.047     -2.150      0.032        -0.194    -0.009\n",
      "IsActiveMember     -1.0744      0.058    -18.631      0.000        -1.187    -0.961\n",
      "EstimatedSalary  4.818e-07   4.74e-07      1.017      0.309     -4.47e-07  1.41e-06\n",
      "===================================================================================\n",
      "\n",
      "_____P-values____\n",
      "const               2.068294e-60\n",
      "Germany             2.545658e-33\n",
      "Female              3.024897e-22\n",
      "CreditScore         1.782382e-02\n",
      "Age                1.731605e-175\n",
      "Tenure              8.415226e-02\n",
      "Balance             2.660186e-07\n",
      "NumOfProducts       3.152337e-02\n",
      "IsActiveMember      1.809198e-77\n",
      "EstimatedSalary     3.090842e-01\n",
      "dtype: float64\n",
      "\n",
      "_____Highest p-value____\n",
      "\n",
      " EstimatedSalary    0.309084\n",
      "dtype: float64 \n",
      "\n",
      "\n",
      "____Confusion Matrix___\n",
      "[[ 7673.   290.]\n",
      " [ 1599.   438.]]\n",
      "\n",
      "Number of cases correctly predicted: 8111.0 (81.11 %)\n"
     ]
    }
   ],
   "source": [
    "model3 = smdis.Logit(df_y, df_x2).fit()\n",
    "print model3.summary()\n",
    "print \"\\n_____P-values____\"\n",
    "p = model3.pvalues\n",
    "print p\n",
    "print \"\\n_____Highest p-value____\"\n",
    "print \"\\n %s \\n\" % p[p ==max(p)]\n",
    "print \"\\n____Confusion Matrix___\"\n",
    "cm = model3.pred_table()\n",
    "print cm\n",
    "print \"\\nNumber of cases correctly predicted: %s (%s %%)\" % (cm[0][0] + cm[1][1], (cm[0][0] + cm[1][1])*100/np.sum(cm))"
   ]
  },
  {
   "cell_type": "markdown",
   "metadata": {},
   "source": [
    "New model without the variable with the highest p-value: \"EstimatedSalary\""
   ]
  },
  {
   "cell_type": "code",
   "execution_count": 13,
   "metadata": {
    "collapsed": false
   },
   "outputs": [
    {
     "data": {
      "text/html": [
       "<div>\n",
       "<table border=\"1\" class=\"dataframe\">\n",
       "  <thead>\n",
       "    <tr style=\"text-align: right;\">\n",
       "      <th></th>\n",
       "      <th>const</th>\n",
       "      <th>Germany</th>\n",
       "      <th>Female</th>\n",
       "      <th>CreditScore</th>\n",
       "      <th>Age</th>\n",
       "      <th>Tenure</th>\n",
       "      <th>Balance</th>\n",
       "      <th>NumOfProducts</th>\n",
       "      <th>IsActiveMember</th>\n",
       "    </tr>\n",
       "  </thead>\n",
       "  <tbody>\n",
       "    <tr>\n",
       "      <th>0</th>\n",
       "      <td>1</td>\n",
       "      <td>0</td>\n",
       "      <td>1</td>\n",
       "      <td>619</td>\n",
       "      <td>42</td>\n",
       "      <td>2</td>\n",
       "      <td>0.00</td>\n",
       "      <td>1</td>\n",
       "      <td>1</td>\n",
       "    </tr>\n",
       "    <tr>\n",
       "      <th>1</th>\n",
       "      <td>1</td>\n",
       "      <td>0</td>\n",
       "      <td>1</td>\n",
       "      <td>608</td>\n",
       "      <td>41</td>\n",
       "      <td>1</td>\n",
       "      <td>83807.86</td>\n",
       "      <td>1</td>\n",
       "      <td>1</td>\n",
       "    </tr>\n",
       "  </tbody>\n",
       "</table>\n",
       "</div>"
      ],
      "text/plain": [
       "   const  Germany  Female  CreditScore  Age  Tenure   Balance  NumOfProducts  \\\n",
       "0      1        0       1          619   42       2      0.00              1   \n",
       "1      1        0       1          608   41       1  83807.86              1   \n",
       "\n",
       "   IsActiveMember  \n",
       "0               1  \n",
       "1               1  "
      ]
     },
     "execution_count": 13,
     "metadata": {},
     "output_type": "execute_result"
    }
   ],
   "source": [
    "df_x3 = df_x2.drop(['EstimatedSalary'], axis = 1)\n",
    "df_x3[:2]"
   ]
  },
  {
   "cell_type": "code",
   "execution_count": 14,
   "metadata": {
    "collapsed": false
   },
   "outputs": [
    {
     "name": "stdout",
     "output_type": "stream",
     "text": [
      "Optimization terminated successfully.\n",
      "         Current function value: 0.428161\n",
      "         Iterations 6\n",
      "                           Logit Regression Results                           \n",
      "==============================================================================\n",
      "Dep. Variable:                 Exited   No. Observations:                10000\n",
      "Model:                          Logit   Df Residuals:                     9991\n",
      "Method:                           MLE   Df Model:                            8\n",
      "Date:                Wed, 28 Dec 2016   Pseudo R-squ.:                  0.1530\n",
      "Time:                        13:04:12   Log-Likelihood:                -4281.6\n",
      "converged:                       True   LL-Null:                       -5054.9\n",
      "                                        LLR p-value:                     0.000\n",
      "==================================================================================\n",
      "                     coef    std err          z      P>|z|      [95.0% Conf. Int.]\n",
      "----------------------------------------------------------------------------------\n",
      "const             -3.8959      0.236    -16.528      0.000        -4.358    -3.434\n",
      "Germany            0.7621      0.063     12.031      0.000         0.638     0.886\n",
      "Female             0.5290      0.054      9.710      0.000         0.422     0.636\n",
      "CreditScore       -0.0007      0.000     -2.378      0.017        -0.001    -0.000\n",
      "Age                0.0727      0.003     28.238      0.000         0.068     0.078\n",
      "Tenure            -0.0160      0.009     -1.710      0.087        -0.034     0.002\n",
      "Balance         2.653e-06   5.14e-07      5.162      0.000      1.65e-06  3.66e-06\n",
      "NumOfProducts     -0.1005      0.047     -2.132      0.033        -0.193    -0.008\n",
      "IsActiveMember    -1.0751      0.058    -18.644      0.000        -1.188    -0.962\n",
      "==================================================================================\n",
      "\n",
      "_____P-values____\n",
      "const              2.308408e-61\n",
      "Germany            2.434718e-33\n",
      "Female             2.744698e-22\n",
      "CreditScore        1.741371e-02\n",
      "Age               2.006986e-175\n",
      "Tenure             8.734004e-02\n",
      "Balance            2.440782e-07\n",
      "NumOfProducts      3.297139e-02\n",
      "IsActiveMember     1.407482e-77\n",
      "dtype: float64\n",
      "\n",
      "_____Highest p-value____\n",
      "\n",
      " Tenure    0.08734\n",
      "dtype: float64 \n",
      "\n",
      "\n",
      "____Confusion Matrix___\n",
      "[[ 7676.   287.]\n",
      " [ 1598.   439.]]\n",
      "\n",
      "Number of cases correctly predicted: 8115.0 (81.15 %)\n"
     ]
    }
   ],
   "source": [
    "model4 = smdis.Logit(df_y, df_x3).fit()\n",
    "print model4.summary()\n",
    "print \"\\n_____P-values____\"\n",
    "p = model4.pvalues\n",
    "print p\n",
    "print \"\\n_____Highest p-value____\"\n",
    "print \"\\n %s \\n\" % p[p ==max(p)]\n",
    "print \"\\n____Confusion Matrix___\"\n",
    "cm = model4.pred_table()\n",
    "print cm\n",
    "print \"\\nNumber of cases correctly predicted: %s (%s %%)\" % (cm[0][0] + cm[1][1], (cm[0][0] + cm[1][1])*100/np.sum(cm))"
   ]
  },
  {
   "cell_type": "markdown",
   "metadata": {},
   "source": [
    "New model without the variable with the highest p-value: \"Tenure\""
   ]
  },
  {
   "cell_type": "code",
   "execution_count": 15,
   "metadata": {
    "collapsed": false
   },
   "outputs": [
    {
     "data": {
      "text/html": [
       "<div>\n",
       "<table border=\"1\" class=\"dataframe\">\n",
       "  <thead>\n",
       "    <tr style=\"text-align: right;\">\n",
       "      <th></th>\n",
       "      <th>const</th>\n",
       "      <th>Germany</th>\n",
       "      <th>Female</th>\n",
       "      <th>CreditScore</th>\n",
       "      <th>Age</th>\n",
       "      <th>Balance</th>\n",
       "      <th>NumOfProducts</th>\n",
       "      <th>IsActiveMember</th>\n",
       "    </tr>\n",
       "  </thead>\n",
       "  <tbody>\n",
       "    <tr>\n",
       "      <th>0</th>\n",
       "      <td>1</td>\n",
       "      <td>0</td>\n",
       "      <td>1</td>\n",
       "      <td>619</td>\n",
       "      <td>42</td>\n",
       "      <td>0.00</td>\n",
       "      <td>1</td>\n",
       "      <td>1</td>\n",
       "    </tr>\n",
       "    <tr>\n",
       "      <th>1</th>\n",
       "      <td>1</td>\n",
       "      <td>0</td>\n",
       "      <td>1</td>\n",
       "      <td>608</td>\n",
       "      <td>41</td>\n",
       "      <td>83807.86</td>\n",
       "      <td>1</td>\n",
       "      <td>1</td>\n",
       "    </tr>\n",
       "  </tbody>\n",
       "</table>\n",
       "</div>"
      ],
      "text/plain": [
       "   const  Germany  Female  CreditScore  Age   Balance  NumOfProducts  \\\n",
       "0      1        0       1          619   42      0.00              1   \n",
       "1      1        0       1          608   41  83807.86              1   \n",
       "\n",
       "   IsActiveMember  \n",
       "0               1  \n",
       "1               1  "
      ]
     },
     "execution_count": 15,
     "metadata": {},
     "output_type": "execute_result"
    }
   ],
   "source": [
    "df_x4 = df_x3.drop(['Tenure'], axis = 1)\n",
    "df_x4[:2]"
   ]
  },
  {
   "cell_type": "code",
   "execution_count": 16,
   "metadata": {
    "collapsed": false
   },
   "outputs": [
    {
     "name": "stdout",
     "output_type": "stream",
     "text": [
      "Optimization terminated successfully.\n",
      "         Current function value: 0.428307\n",
      "         Iterations 6\n",
      "                           Logit Regression Results                           \n",
      "==============================================================================\n",
      "Dep. Variable:                 Exited   No. Observations:                10000\n",
      "Model:                          Logit   Df Residuals:                     9992\n",
      "Method:                           MLE   Df Model:                            7\n",
      "Date:                Wed, 28 Dec 2016   Pseudo R-squ.:                  0.1527\n",
      "Time:                        13:04:13   Log-Likelihood:                -4283.1\n",
      "converged:                       True   LL-Null:                       -5054.9\n",
      "                                        LLR p-value:                     0.000\n",
      "==================================================================================\n",
      "                     coef    std err          z      P>|z|      [95.0% Conf. Int.]\n",
      "----------------------------------------------------------------------------------\n",
      "const             -3.9760      0.231    -17.200      0.000        -4.429    -3.523\n",
      "Germany            0.7608      0.063     12.014      0.000         0.637     0.885\n",
      "Female             0.5306      0.054      9.741      0.000         0.424     0.637\n",
      "CreditScore       -0.0007      0.000     -2.377      0.017        -0.001    -0.000\n",
      "Age                0.0727      0.003     28.237      0.000         0.068     0.078\n",
      "Balance         2.652e-06   5.14e-07      5.160      0.000      1.64e-06  3.66e-06\n",
      "NumOfProducts     -0.1010      0.047     -2.144      0.032        -0.193    -0.009\n",
      "IsActiveMember    -1.0718      0.058    -18.603      0.000        -1.185    -0.959\n",
      "==================================================================================\n",
      "\n",
      "_____P-values____\n",
      "const              2.658461e-66\n",
      "Germany            3.005769e-33\n",
      "Female             2.006779e-22\n",
      "CreditScore        1.745446e-02\n",
      "Age               2.037936e-175\n",
      "Balance            2.463940e-07\n",
      "NumOfProducts      3.199990e-02\n",
      "IsActiveMember     3.044455e-77\n",
      "dtype: float64\n",
      "\n",
      "_____Highest p-value____\n",
      "\n",
      " NumOfProducts    0.032\n",
      "dtype: float64 \n",
      "\n",
      "\n",
      "____Confusion Matrix___\n",
      "[[ 7676.   287.]\n",
      " [ 1601.   436.]]\n",
      "\n",
      "Number of cases correctly predicted: 8112.0 (81.12 %)\n"
     ]
    }
   ],
   "source": [
    "model5 = smdis.Logit(df_y, df_x4).fit()\n",
    "print model5.summary()\n",
    "print \"\\n_____P-values____\"\n",
    "p = model5.pvalues\n",
    "print p\n",
    "print \"\\n_____Highest p-value____\"\n",
    "print \"\\n %s \\n\" % p[p ==max(p)]\n",
    "print \"\\n____Confusion Matrix___\"\n",
    "cm = model5.pred_table()\n",
    "print cm\n",
    "print \"\\nNumber of cases correctly predicted: %s (%s %%)\" % (cm[0][0] + cm[1][1], (cm[0][0] + cm[1][1])*100/np.sum(cm))"
   ]
  },
  {
   "cell_type": "markdown",
   "metadata": {},
   "source": [
    "Since the Accuracy decreases, the variable \"Tenure\" should be used in the model. \n",
    "Now, the variable with the highest p-value is \"NumOfProducts\" with 0.032, which is above of the defined threshold - 0.05.  "
   ]
  },
  {
   "cell_type": "code",
   "execution_count": 17,
   "metadata": {
    "collapsed": false
   },
   "outputs": [
    {
     "data": {
      "text/html": [
       "<div>\n",
       "<table border=\"1\" class=\"dataframe\">\n",
       "  <thead>\n",
       "    <tr style=\"text-align: right;\">\n",
       "      <th></th>\n",
       "      <th>const</th>\n",
       "      <th>Germany</th>\n",
       "      <th>Female</th>\n",
       "      <th>CreditScore</th>\n",
       "      <th>Age</th>\n",
       "      <th>Tenure</th>\n",
       "      <th>Balance</th>\n",
       "      <th>NumOfProducts</th>\n",
       "      <th>IsActiveMember</th>\n",
       "    </tr>\n",
       "  </thead>\n",
       "  <tbody>\n",
       "    <tr>\n",
       "      <th>0</th>\n",
       "      <td>1</td>\n",
       "      <td>0</td>\n",
       "      <td>1</td>\n",
       "      <td>619</td>\n",
       "      <td>42</td>\n",
       "      <td>2</td>\n",
       "      <td>0.00</td>\n",
       "      <td>1</td>\n",
       "      <td>1</td>\n",
       "    </tr>\n",
       "    <tr>\n",
       "      <th>1</th>\n",
       "      <td>1</td>\n",
       "      <td>0</td>\n",
       "      <td>1</td>\n",
       "      <td>608</td>\n",
       "      <td>41</td>\n",
       "      <td>1</td>\n",
       "      <td>83807.86</td>\n",
       "      <td>1</td>\n",
       "      <td>1</td>\n",
       "    </tr>\n",
       "    <tr>\n",
       "      <th>2</th>\n",
       "      <td>1</td>\n",
       "      <td>0</td>\n",
       "      <td>1</td>\n",
       "      <td>502</td>\n",
       "      <td>42</td>\n",
       "      <td>8</td>\n",
       "      <td>159660.80</td>\n",
       "      <td>3</td>\n",
       "      <td>0</td>\n",
       "    </tr>\n",
       "    <tr>\n",
       "      <th>3</th>\n",
       "      <td>1</td>\n",
       "      <td>0</td>\n",
       "      <td>1</td>\n",
       "      <td>699</td>\n",
       "      <td>39</td>\n",
       "      <td>1</td>\n",
       "      <td>0.00</td>\n",
       "      <td>2</td>\n",
       "      <td>0</td>\n",
       "    </tr>\n",
       "    <tr>\n",
       "      <th>4</th>\n",
       "      <td>1</td>\n",
       "      <td>0</td>\n",
       "      <td>1</td>\n",
       "      <td>850</td>\n",
       "      <td>43</td>\n",
       "      <td>2</td>\n",
       "      <td>125510.82</td>\n",
       "      <td>1</td>\n",
       "      <td>1</td>\n",
       "    </tr>\n",
       "  </tbody>\n",
       "</table>\n",
       "</div>"
      ],
      "text/plain": [
       "   const  Germany  Female  CreditScore  Age  Tenure    Balance  NumOfProducts  \\\n",
       "0      1        0       1          619   42       2       0.00              1   \n",
       "1      1        0       1          608   41       1   83807.86              1   \n",
       "2      1        0       1          502   42       8  159660.80              3   \n",
       "3      1        0       1          699   39       1       0.00              2   \n",
       "4      1        0       1          850   43       2  125510.82              1   \n",
       "\n",
       "   IsActiveMember  \n",
       "0               1  \n",
       "1               1  \n",
       "2               0  \n",
       "3               0  \n",
       "4               1  "
      ]
     },
     "execution_count": 17,
     "metadata": {},
     "output_type": "execute_result"
    }
   ],
   "source": [
    "df_x3[:5]"
   ]
  },
  {
   "cell_type": "markdown",
   "metadata": {},
   "source": [
    "#### Transforming Independent Variables"
   ]
  },
  {
   "cell_type": "markdown",
   "metadata": {},
   "source": [
    "Most common transformations:\n",
    "\n",
    "1. $$\\sqrt{x}$$\n",
    "2. $$x^2$$\n",
    "3. $$ln(x)$$"
   ]
  },
  {
   "cell_type": "markdown",
   "metadata": {},
   "source": [
    "Transform \"Balance\" variable with ln(x):\n",
    "\n",
    "Original value: Balance (in 1000$):\n",
    "\n",
    "        Bal2 = Bal1 + 1unit -->  Bal2 = Bal1 + 1000$\n",
    "        \n",
    "        Scenario1: Bal1 = 1000$\n",
    "            --> Bal2 = 1000$ + 1000$ = 2000$\n",
    "        Scenario2: Bal1 = 10000$\n",
    "            --> Bal2 = 10000$ + 1000$ = 11000$\n",
    "          \n",
    "Log10(Balance + 1):\n",
    "\n",
    "        log10(Bal2) = log10(Bal1) + 1unit --> Bal2 = Bal1*10\n",
    "        \n",
    "        Scenario1: Bal1 = 1000$\n",
    "            --> Bal2 = 1000*10 = 10000\n",
    "    Scenario2: Bal1 = 10000$\n",
    "            ---> Bal2 = 10000*10 = 100000\n",
    "            \n",
    "Using the original value, means that if someone that starts with a balance of 1000$ and has an increase of 1000$, and someone that starts with a balance of 10000$ and has the same amount of increasing, are two completly different things.\n",
    "\n",
    "Using the ln transformation, it has the same affect on any person regardless of their starting point. It always a 10 times increase so a unit increase has a consistent increase in the balance variable which is 10 times.\n",
    "\n",
    "So regardless of who we're segmenting we can say that the effect of a one unit increase in the new transformed variable is consistent throughout our population and that is much more powerful because that does not restrict the logistic regression.\n",
    "        "
   ]
  },
  {
   "cell_type": "code",
   "execution_count": 18,
   "metadata": {
    "collapsed": false
   },
   "outputs": [
    {
     "data": {
      "text/html": [
       "<div>\n",
       "<table border=\"1\" class=\"dataframe\">\n",
       "  <thead>\n",
       "    <tr style=\"text-align: right;\">\n",
       "      <th></th>\n",
       "      <th>const</th>\n",
       "      <th>Germany</th>\n",
       "      <th>Female</th>\n",
       "      <th>CreditScore</th>\n",
       "      <th>Age</th>\n",
       "      <th>Tenure</th>\n",
       "      <th>Balance</th>\n",
       "      <th>NumOfProducts</th>\n",
       "      <th>IsActiveMember</th>\n",
       "      <th>Balance_log</th>\n",
       "    </tr>\n",
       "  </thead>\n",
       "  <tbody>\n",
       "    <tr>\n",
       "      <th>0</th>\n",
       "      <td>1</td>\n",
       "      <td>0</td>\n",
       "      <td>1</td>\n",
       "      <td>619</td>\n",
       "      <td>42</td>\n",
       "      <td>2</td>\n",
       "      <td>0.00</td>\n",
       "      <td>1</td>\n",
       "      <td>1</td>\n",
       "      <td>0.00000</td>\n",
       "    </tr>\n",
       "    <tr>\n",
       "      <th>1</th>\n",
       "      <td>1</td>\n",
       "      <td>0</td>\n",
       "      <td>1</td>\n",
       "      <td>608</td>\n",
       "      <td>41</td>\n",
       "      <td>1</td>\n",
       "      <td>83807.86</td>\n",
       "      <td>1</td>\n",
       "      <td>1</td>\n",
       "      <td>4.92329</td>\n",
       "    </tr>\n",
       "  </tbody>\n",
       "</table>\n",
       "</div>"
      ],
      "text/plain": [
       "   const  Germany  Female  CreditScore  Age  Tenure   Balance  NumOfProducts  \\\n",
       "0      1        0       1          619   42       2      0.00              1   \n",
       "1      1        0       1          608   41       1  83807.86              1   \n",
       "\n",
       "   IsActiveMember  Balance_log  \n",
       "0               1      0.00000  \n",
       "1               1      4.92329  "
      ]
     },
     "execution_count": 18,
     "metadata": {},
     "output_type": "execute_result"
    }
   ],
   "source": [
    "df_x4 = df_x3\n",
    "df_x4['Balance_log'] = df_x4['Balance'].map(lambda x: np.log10(x+1))\n",
    "df_x4[:2]"
   ]
  },
  {
   "cell_type": "code",
   "execution_count": 19,
   "metadata": {
    "collapsed": false
   },
   "outputs": [
    {
     "name": "stdout",
     "output_type": "stream",
     "text": [
      "Optimization terminated successfully.\n",
      "         Current function value: 0.428134\n",
      "         Iterations 6\n",
      "                           Logit Regression Results                           \n",
      "==============================================================================\n",
      "Dep. Variable:                 Exited   No. Observations:                10000\n",
      "Model:                          Logit   Df Residuals:                     9990\n",
      "Method:                           MLE   Df Model:                            9\n",
      "Date:                Wed, 28 Dec 2016   Pseudo R-squ.:                  0.1530\n",
      "Time:                        13:04:14   Log-Likelihood:                -4281.3\n",
      "converged:                       True   LL-Null:                       -5054.9\n",
      "                                        LLR p-value:                     0.000\n",
      "==================================================================================\n",
      "                     coef    std err          z      P>|z|      [95.0% Conf. Int.]\n",
      "----------------------------------------------------------------------------------\n",
      "const             -3.9147      0.237    -16.505      0.000        -4.380    -3.450\n",
      "Germany            0.7509      0.065     11.532      0.000         0.623     0.879\n",
      "Female             0.5286      0.054      9.701      0.000         0.422     0.635\n",
      "CreditScore       -0.0007      0.000     -2.387      0.017        -0.001    -0.000\n",
      "Age                0.0727      0.003     28.233      0.000         0.068     0.078\n",
      "Tenure            -0.0160      0.009     -1.706      0.088        -0.034     0.002\n",
      "Balance         1.871e-06   1.19e-06      1.568      0.117     -4.68e-07  4.21e-06\n",
      "NumOfProducts     -0.0957      0.048     -2.013      0.044        -0.189    -0.003\n",
      "IsActiveMember    -1.0754      0.058    -18.650      0.000        -1.188    -0.962\n",
      "Balance_log        0.0235      0.032      0.728      0.467        -0.040     0.087\n",
      "==================================================================================\n",
      "\n",
      "_____P-values____\n",
      "const              3.364882e-61\n",
      "Germany            9.111212e-31\n",
      "Female             2.971672e-22\n",
      "CreditScore        1.697954e-02\n",
      "Age               2.287651e-175\n",
      "Tenure             8.794792e-02\n",
      "Balance            1.169019e-01\n",
      "NumOfProducts      4.409600e-02\n",
      "IsActiveMember     1.262368e-77\n",
      "Balance_log        4.668374e-01\n",
      "dtype: float64\n",
      "\n",
      "_____Highest p-value____\n",
      "\n",
      " Balance_log    0.466837\n",
      "dtype: float64 \n",
      "\n",
      "\n",
      "____Confusion Matrix___\n",
      "[[ 7681.   282.]\n",
      " [ 1597.   440.]]\n",
      "\n",
      "Number of cases correctly predicted: 8121.0 (81.21 %)\n"
     ]
    }
   ],
   "source": [
    "model6 = smdis.Logit(df_y, df_x4).fit()\n",
    "print model6.summary()\n",
    "print \"\\n_____P-values____\"\n",
    "p = model6.pvalues\n",
    "print p\n",
    "print \"\\n_____Highest p-value____\"\n",
    "print \"\\n %s \\n\" % p[p ==max(p)]\n",
    "print \"\\n____Confusion Matrix___\"\n",
    "cm = model6.pred_table()\n",
    "print cm\n",
    "print \"\\nNumber of cases correctly predicted: %s (%s %%)\" % (cm[0][0] + cm[1][1], (cm[0][0] + cm[1][1])*100/np.sum(cm))"
   ]
  },
  {
   "cell_type": "markdown",
   "metadata": {},
   "source": [
    "The accuracy is improved!"
   ]
  },
  {
   "cell_type": "markdown",
   "metadata": {},
   "source": [
    "#### Derived Variables\n",
    "\n",
    "Sometimes it is useful too account for some effects, for example in our case, the balance and age might be correlated, because the older a person is the more whealth he/she can accumulate. \n",
    "\n",
    "So a new variable can be created:\n",
    "\n",
    "$$WealthAccumlation = \\frac{Balance}{Age}$$"
   ]
  },
  {
   "cell_type": "code",
   "execution_count": 20,
   "metadata": {
    "collapsed": false
   },
   "outputs": [
    {
     "data": {
      "text/html": [
       "<div>\n",
       "<table border=\"1\" class=\"dataframe\">\n",
       "  <thead>\n",
       "    <tr style=\"text-align: right;\">\n",
       "      <th></th>\n",
       "      <th>const</th>\n",
       "      <th>Germany</th>\n",
       "      <th>Female</th>\n",
       "      <th>CreditScore</th>\n",
       "      <th>Age</th>\n",
       "      <th>Tenure</th>\n",
       "      <th>Balance</th>\n",
       "      <th>NumOfProducts</th>\n",
       "      <th>IsActiveMember</th>\n",
       "      <th>Balance_log</th>\n",
       "      <th>WealthAccumulation</th>\n",
       "    </tr>\n",
       "  </thead>\n",
       "  <tbody>\n",
       "    <tr>\n",
       "      <th>0</th>\n",
       "      <td>1</td>\n",
       "      <td>0</td>\n",
       "      <td>1</td>\n",
       "      <td>619</td>\n",
       "      <td>42</td>\n",
       "      <td>2</td>\n",
       "      <td>0.00</td>\n",
       "      <td>1</td>\n",
       "      <td>1</td>\n",
       "      <td>0.00000</td>\n",
       "      <td>0.000000</td>\n",
       "    </tr>\n",
       "    <tr>\n",
       "      <th>1</th>\n",
       "      <td>1</td>\n",
       "      <td>0</td>\n",
       "      <td>1</td>\n",
       "      <td>608</td>\n",
       "      <td>41</td>\n",
       "      <td>1</td>\n",
       "      <td>83807.86</td>\n",
       "      <td>1</td>\n",
       "      <td>1</td>\n",
       "      <td>4.92329</td>\n",
       "      <td>2044.094146</td>\n",
       "    </tr>\n",
       "  </tbody>\n",
       "</table>\n",
       "</div>"
      ],
      "text/plain": [
       "   const  Germany  Female  CreditScore  Age  Tenure   Balance  NumOfProducts  \\\n",
       "0      1        0       1          619   42       2      0.00              1   \n",
       "1      1        0       1          608   41       1  83807.86              1   \n",
       "\n",
       "   IsActiveMember  Balance_log  WealthAccumulation  \n",
       "0               1      0.00000            0.000000  \n",
       "1               1      4.92329         2044.094146  "
      ]
     },
     "execution_count": 20,
     "metadata": {},
     "output_type": "execute_result"
    }
   ],
   "source": [
    "df_x5 = df_x4\n",
    "df_x5['WealthAccumulation'] = df_x5['Balance']/ df_x5['Age']\n",
    "df_x5[:2]"
   ]
  },
  {
   "cell_type": "code",
   "execution_count": 21,
   "metadata": {
    "collapsed": false
   },
   "outputs": [
    {
     "name": "stdout",
     "output_type": "stream",
     "text": [
      "Optimization terminated successfully.\n",
      "         Current function value: 0.427323\n",
      "         Iterations 6\n",
      "                           Logit Regression Results                           \n",
      "==============================================================================\n",
      "Dep. Variable:                 Exited   No. Observations:                10000\n",
      "Model:                          Logit   Df Residuals:                     9989\n",
      "Method:                           MLE   Df Model:                           10\n",
      "Date:                Wed, 28 Dec 2016   Pseudo R-squ.:                  0.1546\n",
      "Time:                        13:04:15   Log-Likelihood:                -4273.2\n",
      "converged:                       True   LL-Null:                       -5054.9\n",
      "                                        LLR p-value:                     0.000\n",
      "======================================================================================\n",
      "                         coef    std err          z      P>|z|      [95.0% Conf. Int.]\n",
      "--------------------------------------------------------------------------------------\n",
      "const                 -3.4253      0.266    -12.896      0.000        -3.946    -2.905\n",
      "Germany                0.7534      0.066     11.483      0.000         0.625     0.882\n",
      "Female                 0.5289      0.055      9.693      0.000         0.422     0.636\n",
      "CreditScore           -0.0007      0.000     -2.326      0.020        -0.001    -0.000\n",
      "Age                    0.0611      0.004     15.903      0.000         0.054     0.069\n",
      "Tenure                -0.0165      0.009     -1.762      0.078        -0.035     0.002\n",
      "Balance             8.362e-06   2.02e-06      4.143      0.000      4.41e-06  1.23e-05\n",
      "NumOfProducts         -0.1011      0.048     -2.119      0.034        -0.195    -0.008\n",
      "IsActiveMember        -1.0601      0.058    -18.349      0.000        -1.173    -0.947\n",
      "Balance_log            0.0213      0.032      0.657      0.511        -0.042     0.085\n",
      "WealthAccumulation    -0.0003   6.51e-05     -3.954      0.000        -0.000    -0.000\n",
      "======================================================================================\n",
      "\n",
      "_____P-values____\n",
      "const                 4.756747e-38\n",
      "Germany               1.599880e-30\n",
      "Female                3.244594e-22\n",
      "CreditScore           2.000443e-02\n",
      "Age                   6.030631e-57\n",
      "Tenure                7.801725e-02\n",
      "Balance               3.428919e-05\n",
      "NumOfProducts         3.411316e-02\n",
      "IsActiveMember        3.376037e-75\n",
      "Balance_log           5.111832e-01\n",
      "WealthAccumulation    7.673375e-05\n",
      "dtype: float64\n",
      "\n",
      "_____Highest p-value____\n",
      "\n",
      " Balance_log    0.511183\n",
      "dtype: float64 \n",
      "\n",
      "\n",
      "____Confusion Matrix___\n",
      "[[ 7662.   301.]\n",
      " [ 1586.   451.]]\n",
      "\n",
      "Number of cases correctly predicted: 8113.0 (81.13 %)\n"
     ]
    }
   ],
   "source": [
    "model7 = smdis.Logit(df_y, df_x5).fit()\n",
    "print model7.summary()\n",
    "print \"\\n_____P-values____\"\n",
    "p = model7.pvalues\n",
    "print p\n",
    "print \"\\n_____Highest p-value____\"\n",
    "print \"\\n %s \\n\" % p[p ==max(p)]\n",
    "print \"\\n____Confusion Matrix___\"\n",
    "cm = model7.pred_table()\n",
    "print cm\n",
    "print \"\\nNumber of cases correctly predicted: %s (%s %%)\" % (cm[0][0] + cm[1][1], (cm[0][0] + cm[1][1])*100/np.sum(cm))"
   ]
  },
  {
   "cell_type": "markdown",
   "metadata": {},
   "source": [
    "This new variable had a negative effect in the model accuracy.\n",
    "\n",
    "However, one should have in consideration that might be some collinearity effects because wealth accumulation includes the variables balance and age that are already in the model. So basically this means that this new variable might be somehow correlated with the other two and including all of them in the model might cause some damage, so on of them should be excluded.\n"
   ]
  },
  {
   "cell_type": "markdown",
   "metadata": {},
   "source": [
    "#### Multicollinearity\n",
    "\n",
    "Multicollinearity is a phenomenon in which two or more predictor variables in a multiple regression model are highly correlated, meaning that one can be linearly predicted from the others with a substantial degree of accuracy.\n",
    "\n",
    "The \"Variance Inflation Factors - VIF\" can be used to measure the degree of multicollinearity.\n",
    "\n",
    "Minimum possible value = 1.0\n",
    "Values > 5 may indicate a collinearity problem.\n",
    "\n",
    "$$VIF(j) = \\frac{1}{( 1 - R(j)^2)}$$\n",
    "\n",
    "where R(j) is the multiple correlarion coefficient between variable j and the other independent variables\n"
   ]
  },
  {
   "cell_type": "code",
   "execution_count": 22,
   "metadata": {
    "collapsed": false
   },
   "outputs": [
    {
     "name": "stdout",
     "output_type": "stream",
     "text": [
      "const 91.4773722803\n",
      "Germany 1.27101224421\n",
      "Female 1.00321582613\n",
      "CreditScore 1.00104450767\n",
      "Age 2.10487620512\n",
      "Tenure 1.00161073156\n",
      "Balance 20.8895673667\n",
      "NumOfProducts 1.15312466504\n",
      "IsActiveMember 1.01384972933\n",
      "Balance_log 8.72881202924\n",
      "WealthAccumulation 14.5598595824\n"
     ]
    }
   ],
   "source": [
    "i = 0\n",
    "for column in df_x5.columns:\n",
    "    \n",
    "    print column + \" %s\" % outliers.variance_inflation_factor(df_x5.values, i)\n",
    "    i += 1"
   ]
  },
  {
   "cell_type": "markdown",
   "metadata": {},
   "source": [
    "Rerun without the \"Balance_log\" variable:"
   ]
  },
  {
   "cell_type": "code",
   "execution_count": 23,
   "metadata": {
    "collapsed": false
   },
   "outputs": [],
   "source": [
    "df_x6 = df_x5.drop('Balance_log', axis = 1)"
   ]
  },
  {
   "cell_type": "code",
   "execution_count": 24,
   "metadata": {
    "collapsed": false
   },
   "outputs": [
    {
     "name": "stdout",
     "output_type": "stream",
     "text": [
      "Optimization terminated successfully.\n",
      "         Current function value: 0.427344\n",
      "         Iterations 6\n",
      "                           Logit Regression Results                           \n",
      "==============================================================================\n",
      "Dep. Variable:                 Exited   No. Observations:                10000\n",
      "Model:                          Logit   Df Residuals:                     9990\n",
      "Method:                           MLE   Df Model:                            9\n",
      "Date:                Wed, 28 Dec 2016   Pseudo R-squ.:                  0.1546\n",
      "Time:                        13:04:15   Log-Likelihood:                -4273.4\n",
      "converged:                       True   LL-Null:                       -5054.9\n",
      "                                        LLR p-value:                     0.000\n",
      "======================================================================================\n",
      "                         coef    std err          z      P>|z|      [95.0% Conf. Int.]\n",
      "--------------------------------------------------------------------------------------\n",
      "const                 -3.4089      0.264    -12.904      0.000        -3.927    -2.891\n",
      "Germany                0.7636      0.064     11.967      0.000         0.639     0.889\n",
      "Female                 0.5292      0.055      9.699      0.000         0.422     0.636\n",
      "CreditScore           -0.0007      0.000     -2.318      0.020        -0.001    -0.000\n",
      "Age                    0.0612      0.004     15.938      0.000         0.054     0.069\n",
      "Tenure                -0.0165      0.009     -1.766      0.077        -0.035     0.002\n",
      "Balance             9.078e-06    1.7e-06      5.351      0.000      5.75e-06  1.24e-05\n",
      "NumOfProducts         -0.1054      0.047     -2.229      0.026        -0.198    -0.013\n",
      "IsActiveMember        -1.0598      0.058    -18.343      0.000        -1.173    -0.947\n",
      "WealthAccumulation    -0.0003   6.49e-05     -3.965      0.000        -0.000    -0.000\n",
      "======================================================================================\n",
      "\n",
      "_____P-values____\n",
      "const                 4.282278e-38\n",
      "Germany               5.318191e-33\n",
      "Female                3.042840e-22\n",
      "CreditScore           2.047417e-02\n",
      "Age                   3.455661e-57\n",
      "Tenure                7.744433e-02\n",
      "Balance               8.770661e-08\n",
      "NumOfProducts         2.578202e-02\n",
      "IsActiveMember        3.744959e-75\n",
      "WealthAccumulation    7.325518e-05\n",
      "dtype: float64\n",
      "\n",
      "_____Highest p-value____\n",
      "\n",
      " Tenure    0.077444\n",
      "dtype: float64 \n",
      "\n",
      "\n",
      "____Confusion Matrix___\n",
      "[[ 7672.   291.]\n",
      " [ 1586.   451.]]\n",
      "\n",
      "Number of cases correctly predicted: 8123.0 (81.23 %)\n"
     ]
    }
   ],
   "source": [
    "model8 = smdis.Logit(df_y, df_x6).fit()\n",
    "print model8.summary()\n",
    "print \"\\n_____P-values____\"\n",
    "p = model8.pvalues\n",
    "print p\n",
    "print \"\\n_____Highest p-value____\"\n",
    "print \"\\n %s \\n\" % p[p ==max(p)]\n",
    "print \"\\n____Confusion Matrix___\"\n",
    "cm = model8.pred_table()\n",
    "print cm\n",
    "print \"\\nNumber of cases correctly predicted: %s (%s %%)\" % (cm[0][0] + cm[1][1], (cm[0][0] + cm[1][1])*100/np.sum(cm))"
   ]
  },
  {
   "cell_type": "code",
   "execution_count": 25,
   "metadata": {
    "collapsed": false
   },
   "outputs": [
    {
     "name": "stdout",
     "output_type": "stream",
     "text": [
      "const 90.6320775047\n",
      "Germany 1.2161676569\n",
      "Female 1.00302785174\n",
      "CreditScore 1.00097995156\n",
      "Age 2.10477505278\n",
      "Tenure 1.00153406128\n",
      "Balance 14.0245653407\n",
      "NumOfProducts 1.12330226029\n",
      "IsActiveMember 1.01353234553\n",
      "WealthAccumulation 14.5598562679\n"
     ]
    }
   ],
   "source": [
    "i = 0\n",
    "\n",
    "for column in df_x6.columns:\n",
    "    \n",
    "    print column + \" %s\" % outliers.variance_inflation_factor(df_x6.values, i)\n",
    "    i += 1"
   ]
  },
  {
   "cell_type": "markdown",
   "metadata": {},
   "source": [
    "Create new variable log for wealth accumulation:"
   ]
  },
  {
   "cell_type": "code",
   "execution_count": 26,
   "metadata": {
    "collapsed": false
   },
   "outputs": [
    {
     "data": {
      "text/html": [
       "<div>\n",
       "<table border=\"1\" class=\"dataframe\">\n",
       "  <thead>\n",
       "    <tr style=\"text-align: right;\">\n",
       "      <th></th>\n",
       "      <th>const</th>\n",
       "      <th>Germany</th>\n",
       "      <th>Female</th>\n",
       "      <th>CreditScore</th>\n",
       "      <th>Age</th>\n",
       "      <th>Tenure</th>\n",
       "      <th>Balance</th>\n",
       "      <th>NumOfProducts</th>\n",
       "      <th>IsActiveMember</th>\n",
       "      <th>Balance_log</th>\n",
       "      <th>WealthAccumulation</th>\n",
       "      <th>WealthAccumulation_log</th>\n",
       "    </tr>\n",
       "  </thead>\n",
       "  <tbody>\n",
       "    <tr>\n",
       "      <th>0</th>\n",
       "      <td>1</td>\n",
       "      <td>0</td>\n",
       "      <td>1</td>\n",
       "      <td>619</td>\n",
       "      <td>42</td>\n",
       "      <td>2</td>\n",
       "      <td>0.00</td>\n",
       "      <td>1</td>\n",
       "      <td>1</td>\n",
       "      <td>0.00000</td>\n",
       "      <td>0.000000</td>\n",
       "      <td>0.000000</td>\n",
       "    </tr>\n",
       "    <tr>\n",
       "      <th>1</th>\n",
       "      <td>1</td>\n",
       "      <td>0</td>\n",
       "      <td>1</td>\n",
       "      <td>608</td>\n",
       "      <td>41</td>\n",
       "      <td>1</td>\n",
       "      <td>83807.86</td>\n",
       "      <td>1</td>\n",
       "      <td>1</td>\n",
       "      <td>4.92329</td>\n",
       "      <td>2044.094146</td>\n",
       "      <td>3.310713</td>\n",
       "    </tr>\n",
       "  </tbody>\n",
       "</table>\n",
       "</div>"
      ],
      "text/plain": [
       "   const  Germany  Female  CreditScore  Age  Tenure   Balance  NumOfProducts  \\\n",
       "0      1        0       1          619   42       2      0.00              1   \n",
       "1      1        0       1          608   41       1  83807.86              1   \n",
       "\n",
       "   IsActiveMember  Balance_log  WealthAccumulation  WealthAccumulation_log  \n",
       "0               1      0.00000            0.000000                0.000000  \n",
       "1               1      4.92329         2044.094146                3.310713  "
      ]
     },
     "execution_count": 26,
     "metadata": {},
     "output_type": "execute_result"
    }
   ],
   "source": [
    "df_x7 = df_x5\n",
    "df_x7['WealthAccumulation_log'] = df_x7['WealthAccumulation'].map(lambda x: np.log10(x + 1))\n",
    "df_x7[:2]"
   ]
  },
  {
   "cell_type": "code",
   "execution_count": 27,
   "metadata": {
    "collapsed": true
   },
   "outputs": [],
   "source": [
    "df_x7 = df_x7.drop(['Balance', 'WealthAccumulation'], axis = 1)"
   ]
  },
  {
   "cell_type": "code",
   "execution_count": 28,
   "metadata": {
    "collapsed": false
   },
   "outputs": [
    {
     "name": "stdout",
     "output_type": "stream",
     "text": [
      "Optimization terminated successfully.\n",
      "         Current function value: 0.427891\n",
      "         Iterations 6\n",
      "                           Logit Regression Results                           \n",
      "==============================================================================\n",
      "Dep. Variable:                 Exited   No. Observations:                10000\n",
      "Model:                          Logit   Df Residuals:                     9990\n",
      "Method:                           MLE   Df Model:                            9\n",
      "Date:                Wed, 28 Dec 2016   Pseudo R-squ.:                  0.1535\n",
      "Time:                        13:04:16   Log-Likelihood:                -4278.9\n",
      "converged:                       True   LL-Null:                       -5054.9\n",
      "                                        LLR p-value:                     0.000\n",
      "==========================================================================================\n",
      "                             coef    std err          z      P>|z|      [95.0% Conf. Int.]\n",
      "------------------------------------------------------------------------------------------\n",
      "const                     -3.5735      0.267    -13.362      0.000        -4.098    -3.049\n",
      "Germany                    0.7516      0.065     11.492      0.000         0.623     0.880\n",
      "Female                     0.5263      0.055      9.655      0.000         0.420     0.633\n",
      "CreditScore               -0.0007      0.000     -2.386      0.017        -0.001    -0.000\n",
      "Age                        0.0647      0.004     16.631      0.000         0.057     0.072\n",
      "Tenure                    -0.0162      0.009     -1.729      0.084        -0.035     0.002\n",
      "NumOfProducts             -0.0983      0.048     -2.063      0.039        -0.192    -0.005\n",
      "IsActiveMember            -1.0687      0.058    -18.516      0.000        -1.182    -0.956\n",
      "Balance_log                0.8699      0.297      2.932      0.003         0.288     1.451\n",
      "WealthAccumulation_log    -1.1762      0.435     -2.702      0.007        -2.029    -0.323\n",
      "==========================================================================================\n",
      "\n",
      "_____P-values____\n",
      "const                     1.007546e-40\n",
      "Germany                   1.441579e-30\n",
      "Female                    4.661027e-22\n",
      "CreditScore               1.704065e-02\n",
      "Age                       4.171785e-62\n",
      "Tenure                    8.382654e-02\n",
      "NumOfProducts             3.907377e-02\n",
      "IsActiveMember            1.520894e-76\n",
      "Balance_log               3.373142e-03\n",
      "WealthAccumulation_log    6.887931e-03\n",
      "dtype: float64\n",
      "\n",
      "_____Highest p-value____\n",
      "\n",
      " Tenure    0.083827\n",
      "dtype: float64 \n",
      "\n",
      "\n",
      "____Confusion Matrix___\n",
      "[[ 7685.   278.]\n",
      " [ 1597.   440.]]\n",
      "\n",
      "Number of cases correctly predicted: 8125.0 (81.25 %)\n"
     ]
    }
   ],
   "source": [
    "model9 = smdis.Logit(df_y, df_x7).fit()\n",
    "print model9.summary()\n",
    "print \"\\n_____P-values____\"\n",
    "p = model9.pvalues\n",
    "print p\n",
    "print \"\\n_____Highest p-value____\"\n",
    "print \"\\n %s \\n\" % p[p ==max(p)]\n",
    "print \"\\n____Confusion Matrix___\"\n",
    "cm = model9.pred_table()\n",
    "print cm\n",
    "print \"\\nNumber of cases correctly predicted: %s (%s %%)\" % (cm[0][0] + cm[1][1], (cm[0][0] + cm[1][1])*100/np.sum(cm))"
   ]
  },
  {
   "cell_type": "code",
   "execution_count": 29,
   "metadata": {
    "collapsed": false
   },
   "outputs": [
    {
     "name": "stdout",
     "output_type": "stream",
     "text": [
      "const 93.5608074531\n",
      "Germany 1.26986359735\n",
      "Female 1.00282038022\n",
      "CreditScore 1.00102945704\n",
      "Age 2.26479838945\n",
      "Tenure 1.00165459162\n",
      "NumOfProducts 1.15243000098\n",
      "IsActiveMember 1.01168357579\n",
      "Balance_log 705.940971113\n",
      "WealthAccumulation_log 704.739971273\n"
     ]
    }
   ],
   "source": [
    "i = 0\n",
    "\n",
    "for column in df_x7.columns:\n",
    "    \n",
    "    print column + \" %s\" % outliers.variance_inflation_factor(df_x7.values, i)\n",
    "    i += 1"
   ]
  },
  {
   "cell_type": "markdown",
   "metadata": {},
   "source": [
    "\"Balance_log\" and \"WealthAccumulation_log\" have too large values which means that these two variables are basically the same thing. So one of these variables must be excluded!"
   ]
  },
  {
   "cell_type": "code",
   "execution_count": 30,
   "metadata": {
    "collapsed": true
   },
   "outputs": [],
   "source": [
    "df_x8 = df_x7.drop(['Balance_log'], axis = 1)"
   ]
  },
  {
   "cell_type": "code",
   "execution_count": 31,
   "metadata": {
    "collapsed": false
   },
   "outputs": [
    {
     "name": "stdout",
     "output_type": "stream",
     "text": [
      "Optimization terminated successfully.\n",
      "         Current function value: 0.428322\n",
      "         Iterations 6\n",
      "                           Logit Regression Results                           \n",
      "==============================================================================\n",
      "Dep. Variable:                 Exited   No. Observations:                10000\n",
      "Model:                          Logit   Df Residuals:                     9991\n",
      "Method:                           MLE   Df Model:                            8\n",
      "Date:                Wed, 28 Dec 2016   Pseudo R-squ.:                  0.1527\n",
      "Time:                        13:04:18   Log-Likelihood:                -4283.2\n",
      "converged:                       True   LL-Null:                       -5054.9\n",
      "                                        LLR p-value:                     0.000\n",
      "==========================================================================================\n",
      "                             coef    std err          z      P>|z|      [95.0% Conf. Int.]\n",
      "------------------------------------------------------------------------------------------\n",
      "const                     -3.9325      0.239    -16.467      0.000        -4.401    -3.464\n",
      "Germany                    0.7515      0.065     11.550      0.000         0.624     0.879\n",
      "Female                     0.5266      0.054      9.671      0.000         0.420     0.633\n",
      "CreditScore               -0.0007      0.000     -2.409      0.016        -0.001    -0.000\n",
      "Age                        0.0733      0.003     28.398      0.000         0.068     0.078\n",
      "Tenure                    -0.0159      0.009     -1.697      0.090        -0.034     0.002\n",
      "NumOfProducts             -0.0967      0.048     -2.034      0.042        -0.190    -0.004\n",
      "IsActiveMember            -1.0763      0.058    -18.672      0.000        -1.189    -0.963\n",
      "WealthAccumulation_log     0.0985      0.020      4.812      0.000         0.058     0.139\n",
      "==========================================================================================\n",
      "\n",
      "_____P-values____\n",
      "const                      6.349678e-61\n",
      "Germany                    7.379902e-31\n",
      "Female                     4.015783e-22\n",
      "CreditScore                1.598070e-02\n",
      "Age                       2.132441e-177\n",
      "Tenure                     8.978088e-02\n",
      "NumOfProducts              4.195258e-02\n",
      "IsActiveMember             8.443410e-78\n",
      "WealthAccumulation_log     1.490621e-06\n",
      "dtype: float64\n",
      "\n",
      "_____Highest p-value____\n",
      "\n",
      " Tenure    0.089781\n",
      "dtype: float64 \n",
      "\n",
      "\n",
      "____Confusion Matrix___\n",
      "[[ 7688.   275.]\n",
      " [ 1597.   440.]]\n",
      "\n",
      "Number of cases correctly predicted: 8128.0 (81.28 %)\n"
     ]
    }
   ],
   "source": [
    "model10 = smdis.Logit(df_y, df_x8).fit()\n",
    "print model10.summary()\n",
    "print \"\\n_____P-values____\"\n",
    "p = model10.pvalues\n",
    "print p\n",
    "print \"\\n_____Highest p-value____\"\n",
    "print \"\\n %s \\n\" % p[p ==max(p)]\n",
    "print \"\\n____Confusion Matrix___\"\n",
    "cm = model10.pred_table()\n",
    "print cm\n",
    "print \"\\nNumber of cases correctly predicted: %s (%s %%)\" % (cm[0][0] + cm[1][1], (cm[0][0] + cm[1][1])*100/np.sum(cm))"
   ]
  },
  {
   "cell_type": "markdown",
   "metadata": {},
   "source": [
    "Correlation between variables:"
   ]
  },
  {
   "cell_type": "code",
   "execution_count": 32,
   "metadata": {
    "collapsed": false
   },
   "outputs": [
    {
     "data": {
      "text/html": [
       "<div>\n",
       "<table border=\"1\" class=\"dataframe\">\n",
       "  <thead>\n",
       "    <tr style=\"text-align: right;\">\n",
       "      <th></th>\n",
       "      <th>Age</th>\n",
       "      <th>Balance_log</th>\n",
       "      <th>WealthAccumulation_log</th>\n",
       "      <th>WealthAccumulation</th>\n",
       "    </tr>\n",
       "  </thead>\n",
       "  <tbody>\n",
       "    <tr>\n",
       "      <th>Age</th>\n",
       "      <td>1.000000</td>\n",
       "      <td>0.034530</td>\n",
       "      <td>-0.007524</td>\n",
       "      <td>-0.246293</td>\n",
       "    </tr>\n",
       "    <tr>\n",
       "      <th>Balance_log</th>\n",
       "      <td>0.034530</td>\n",
       "      <td>1.000000</td>\n",
       "      <td>0.998404</td>\n",
       "      <td>0.865141</td>\n",
       "    </tr>\n",
       "    <tr>\n",
       "      <th>WealthAccumulation_log</th>\n",
       "      <td>-0.007524</td>\n",
       "      <td>0.998404</td>\n",
       "      <td>1.000000</td>\n",
       "      <td>0.888872</td>\n",
       "    </tr>\n",
       "    <tr>\n",
       "      <th>WealthAccumulation</th>\n",
       "      <td>-0.246293</td>\n",
       "      <td>0.865141</td>\n",
       "      <td>0.888872</td>\n",
       "      <td>1.000000</td>\n",
       "    </tr>\n",
       "  </tbody>\n",
       "</table>\n",
       "</div>"
      ],
      "text/plain": [
       "                             Age  Balance_log  WealthAccumulation_log  \\\n",
       "Age                     1.000000     0.034530               -0.007524   \n",
       "Balance_log             0.034530     1.000000                0.998404   \n",
       "WealthAccumulation_log -0.007524     0.998404                1.000000   \n",
       "WealthAccumulation     -0.246293     0.865141                0.888872   \n",
       "\n",
       "                        WealthAccumulation  \n",
       "Age                              -0.246293  \n",
       "Balance_log                       0.865141  \n",
       "WealthAccumulation_log            0.888872  \n",
       "WealthAccumulation                1.000000  "
      ]
     },
     "execution_count": 32,
     "metadata": {},
     "output_type": "execute_result"
    }
   ],
   "source": [
    "df_x5[['Age', 'Balance_log', 'WealthAccumulation_log', 'WealthAccumulation']].corr()"
   ]
  },
  {
   "cell_type": "markdown",
   "metadata": {},
   "source": [
    "As one can observe, the \"WealthAccumulation_log\" and \"Balance_log\" variables are highly correlated - they are basically the same which is very bad for the model.\n",
    " \n",
    "Thumb rule: anything 0.9 is very high correlation. Correlations above 0.5 should be addressed."
   ]
  },
  {
   "cell_type": "code",
   "execution_count": 33,
   "metadata": {
    "collapsed": false
   },
   "outputs": [],
   "source": [
    "df_final = df_x5.drop(['Balance', 'WealthAccumulation', 'WealthAccumulation_log'], axis = 1)"
   ]
  },
  {
   "cell_type": "code",
   "execution_count": 34,
   "metadata": {
    "collapsed": false
   },
   "outputs": [
    {
     "name": "stdout",
     "output_type": "stream",
     "text": [
      "Optimization terminated successfully.\n",
      "         Current function value: 0.428257\n",
      "         Iterations 6\n",
      "                           Logit Regression Results                           \n",
      "==============================================================================\n",
      "Dep. Variable:                 Exited   No. Observations:                10000\n",
      "Model:                          Logit   Df Residuals:                     9991\n",
      "Method:                           MLE   Df Model:                            8\n",
      "Date:                Wed, 28 Dec 2016   Pseudo R-squ.:                  0.1528\n",
      "Time:                        13:04:19   Log-Likelihood:                -4282.6\n",
      "converged:                       True   LL-Null:                       -5054.9\n",
      "                                        LLR p-value:                     0.000\n",
      "==================================================================================\n",
      "                     coef    std err          z      P>|z|      [95.0% Conf. Int.]\n",
      "----------------------------------------------------------------------------------\n",
      "const             -3.9126      0.237    -16.497      0.000        -4.377    -3.448\n",
      "Germany            0.7476      0.065     11.492      0.000         0.620     0.875\n",
      "Female             0.5267      0.054      9.672      0.000         0.420     0.633\n",
      "CreditScore       -0.0007      0.000     -2.408      0.016        -0.001    -0.000\n",
      "Age                0.0727      0.003     28.221      0.000         0.068     0.078\n",
      "Tenure            -0.0159      0.009     -1.699      0.089        -0.034     0.002\n",
      "NumOfProducts     -0.0950      0.048     -1.999      0.046        -0.188    -0.002\n",
      "IsActiveMember    -1.0758      0.058    -18.662      0.000        -1.189    -0.963\n",
      "Balance_log        0.0690      0.014      4.945      0.000         0.042     0.096\n",
      "==================================================================================\n",
      "\n",
      "_____P-values____\n",
      "const              3.835044e-61\n",
      "Germany            1.441009e-30\n",
      "Female             3.970390e-22\n",
      "CreditScore        1.604464e-02\n",
      "Age               3.239286e-175\n",
      "Tenure             8.932416e-02\n",
      "NumOfProducts      4.562540e-02\n",
      "IsActiveMember     1.011855e-77\n",
      "Balance_log        7.619575e-07\n",
      "dtype: float64\n",
      "\n",
      "_____Highest p-value____\n",
      "\n",
      " Tenure    0.089324\n",
      "dtype: float64 \n",
      "\n",
      "\n",
      "____Confusion Matrix___\n",
      "[[ 7687.   276.]\n",
      " [ 1597.   440.]]\n",
      "\n",
      "Number of cases correctly predicted: 8127.0 (81.27 %)\n"
     ]
    }
   ],
   "source": [
    "model11 = smdis.Logit(df_y, df_final).fit()\n",
    "print model11.summary()\n",
    "print \"\\n_____P-values____\"\n",
    "p = model11.pvalues\n",
    "print p\n",
    "print \"\\n_____Highest p-value____\"\n",
    "print \"\\n %s \\n\" % p[p ==max(p)]\n",
    "print \"\\n____Confusion Matrix___\"\n",
    "cm = model11.pred_table()\n",
    "print cm\n",
    "print \"\\nNumber of cases correctly predicted: %s (%s %%)\" % (cm[0][0] + cm[1][1], (cm[0][0] + cm[1][1])*100/np.sum(cm))"
   ]
  },
  {
   "cell_type": "code",
   "execution_count": 35,
   "metadata": {
    "collapsed": false
   },
   "outputs": [
    {
     "name": "stdout",
     "output_type": "stream",
     "text": [
      "const 76.3936634172\n",
      "Germany 1.26934389528\n",
      "Female 1.00281465894\n",
      "CreditScore 1.00102204693\n",
      "Age 1.01171547993\n",
      "Tenure 1.0014367308\n",
      "NumOfProducts 1.15145597018\n",
      "IsActiveMember 1.01028026511\n",
      "Balance_log 1.42007014313\n"
     ]
    }
   ],
   "source": [
    "i = 0\n",
    "\n",
    "for column in df_final.columns:\n",
    "    \n",
    "    print column + \" %s\" % outliers.variance_inflation_factor(df_final.values, i)\n",
    "    i += 1"
   ]
  },
  {
   "cell_type": "markdown",
   "metadata": {},
   "source": [
    "Now, none of the variables presents multicollinearity."
   ]
  },
  {
   "cell_type": "markdown",
   "metadata": {},
   "source": [
    "#### CAP - Cumulative Accuracy Profile Curve"
   ]
  },
  {
   "cell_type": "code",
   "execution_count": 36,
   "metadata": {
    "collapsed": false
   },
   "outputs": [],
   "source": [
    "df_cap = df[['RowNumber', 'Exited']]\n",
    "df_cap['phat'] = model11.predict()"
   ]
  },
  {
   "cell_type": "code",
   "execution_count": 37,
   "metadata": {
    "collapsed": false
   },
   "outputs": [
    {
     "data": {
      "text/html": [
       "<div>\n",
       "<table border=\"1\" class=\"dataframe\">\n",
       "  <thead>\n",
       "    <tr style=\"text-align: right;\">\n",
       "      <th></th>\n",
       "      <th>RowNumber</th>\n",
       "      <th>Exited</th>\n",
       "      <th>phat</th>\n",
       "    </tr>\n",
       "  </thead>\n",
       "  <tbody>\n",
       "    <tr>\n",
       "      <th>4815</th>\n",
       "      <td>4816</td>\n",
       "      <td>0</td>\n",
       "      <td>0.930669</td>\n",
       "    </tr>\n",
       "    <tr>\n",
       "      <th>3531</th>\n",
       "      <td>3532</td>\n",
       "      <td>1</td>\n",
       "      <td>0.928311</td>\n",
       "    </tr>\n",
       "    <tr>\n",
       "      <th>9587</th>\n",
       "      <td>9588</td>\n",
       "      <td>0</td>\n",
       "      <td>0.923303</td>\n",
       "    </tr>\n",
       "    <tr>\n",
       "      <th>7499</th>\n",
       "      <td>7500</td>\n",
       "      <td>1</td>\n",
       "      <td>0.906178</td>\n",
       "    </tr>\n",
       "    <tr>\n",
       "      <th>9555</th>\n",
       "      <td>9556</td>\n",
       "      <td>1</td>\n",
       "      <td>0.904457</td>\n",
       "    </tr>\n",
       "  </tbody>\n",
       "</table>\n",
       "</div>"
      ],
      "text/plain": [
       "      RowNumber  Exited      phat\n",
       "4815       4816       0  0.930669\n",
       "3531       3532       1  0.928311\n",
       "9587       9588       0  0.923303\n",
       "7499       7500       1  0.906178\n",
       "9555       9556       1  0.904457"
      ]
     },
     "execution_count": 37,
     "metadata": {},
     "output_type": "execute_result"
    }
   ],
   "source": [
    "df_cap.sort('phat', ascending=False)[:5]"
   ]
  },
  {
   "cell_type": "code",
   "execution_count": 153,
   "metadata": {
    "collapsed": false
   },
   "outputs": [
    {
     "name": "stdout",
     "output_type": "stream",
     "text": [
      "Total Exited: 2037\n",
      "Total number of clients: 10000\n",
      "Ratio of exits: 0.2037 \n"
     ]
    }
   ],
   "source": [
    "Total_Exited = sum(df_cap['Exited'])\n",
    "print \"Total Exited: %s\" % Total_Exited\n",
    "Total_Records = len(df)\n",
    "print \"Total number of clients: %s\" % Total_Records\n",
    "Exit_Ratio = Total_Exited/Total_Records\n",
    "print \"Ratio of exits: %s \" % Exit_Ratio"
   ]
  },
  {
   "cell_type": "markdown",
   "metadata": {},
   "source": [
    "First, I select the clients that have a higher probability."
   ]
  },
  {
   "cell_type": "code",
   "execution_count": 111,
   "metadata": {
    "collapsed": false
   },
   "outputs": [],
   "source": [
    "df_cap['total_selected'] = range(1,len(df_cap)+1)\n",
    "df_cap['total_selected_per'] = df_cap['total_selected'].map(lambda x: round(x*100/Total_Records, 1))\n",
    "df_cap['random_selection'] = df_cap['total_selected'].map(lambda x: x*Exit_Ratio)\n",
    "df_cap['random_selection_per'] = df_cap['total_selected'].map(lambda x: round(x*100/Total_Records, 1))"
   ]
  },
  {
   "cell_type": "code",
   "execution_count": 112,
   "metadata": {
    "collapsed": true
   },
   "outputs": [],
   "source": [
    "df_cap = df_cap.sort('phat', ascending=False)"
   ]
  },
  {
   "cell_type": "code",
   "execution_count": 113,
   "metadata": {
    "collapsed": false
   },
   "outputs": [],
   "source": [
    "df_cap['model_select'] = df_cap.Exited.cumsum()\n",
    "df_cap['model_select_per'] = df_cap['model_select'].map(lambda x: round(x*100/Total_Exited, 1))"
   ]
  },
  {
   "cell_type": "code",
   "execution_count": 114,
   "metadata": {
    "collapsed": false
   },
   "outputs": [
    {
     "data": {
      "text/html": [
       "<div>\n",
       "<table border=\"1\" class=\"dataframe\">\n",
       "  <thead>\n",
       "    <tr style=\"text-align: right;\">\n",
       "      <th></th>\n",
       "      <th>RowNumber</th>\n",
       "      <th>Exited</th>\n",
       "      <th>phat</th>\n",
       "      <th>total_selected</th>\n",
       "      <th>total_selected_per</th>\n",
       "      <th>random_selection</th>\n",
       "      <th>random_selection_per</th>\n",
       "      <th>model_select</th>\n",
       "      <th>model_select_per</th>\n",
       "    </tr>\n",
       "  </thead>\n",
       "  <tbody>\n",
       "    <tr>\n",
       "      <th>4815</th>\n",
       "      <td>4816</td>\n",
       "      <td>0</td>\n",
       "      <td>0.930669</td>\n",
       "      <td>1</td>\n",
       "      <td>0.0</td>\n",
       "      <td>0.2037</td>\n",
       "      <td>0.0</td>\n",
       "      <td>0</td>\n",
       "      <td>0.0</td>\n",
       "    </tr>\n",
       "    <tr>\n",
       "      <th>3531</th>\n",
       "      <td>3532</td>\n",
       "      <td>1</td>\n",
       "      <td>0.928311</td>\n",
       "      <td>2</td>\n",
       "      <td>0.0</td>\n",
       "      <td>0.4074</td>\n",
       "      <td>0.0</td>\n",
       "      <td>1</td>\n",
       "      <td>0.0</td>\n",
       "    </tr>\n",
       "    <tr>\n",
       "      <th>9587</th>\n",
       "      <td>9588</td>\n",
       "      <td>0</td>\n",
       "      <td>0.923303</td>\n",
       "      <td>3</td>\n",
       "      <td>0.0</td>\n",
       "      <td>0.6111</td>\n",
       "      <td>0.0</td>\n",
       "      <td>1</td>\n",
       "      <td>0.0</td>\n",
       "    </tr>\n",
       "    <tr>\n",
       "      <th>7499</th>\n",
       "      <td>7500</td>\n",
       "      <td>1</td>\n",
       "      <td>0.906178</td>\n",
       "      <td>4</td>\n",
       "      <td>0.0</td>\n",
       "      <td>0.8148</td>\n",
       "      <td>0.0</td>\n",
       "      <td>2</td>\n",
       "      <td>0.1</td>\n",
       "    </tr>\n",
       "    <tr>\n",
       "      <th>9555</th>\n",
       "      <td>9556</td>\n",
       "      <td>1</td>\n",
       "      <td>0.904457</td>\n",
       "      <td>5</td>\n",
       "      <td>0.1</td>\n",
       "      <td>1.0185</td>\n",
       "      <td>0.1</td>\n",
       "      <td>3</td>\n",
       "      <td>0.1</td>\n",
       "    </tr>\n",
       "  </tbody>\n",
       "</table>\n",
       "</div>"
      ],
      "text/plain": [
       "      RowNumber  Exited      phat  total_selected  total_selected_per  \\\n",
       "4815       4816       0  0.930669               1                 0.0   \n",
       "3531       3532       1  0.928311               2                 0.0   \n",
       "9587       9588       0  0.923303               3                 0.0   \n",
       "7499       7500       1  0.906178               4                 0.0   \n",
       "9555       9556       1  0.904457               5                 0.1   \n",
       "\n",
       "      random_selection  random_selection_per  model_select  model_select_per  \n",
       "4815            0.2037                   0.0             0               0.0  \n",
       "3531            0.4074                   0.0             1               0.0  \n",
       "9587            0.6111                   0.0             1               0.0  \n",
       "7499            0.8148                   0.0             2               0.1  \n",
       "9555            1.0185                   0.1             3               0.1  "
      ]
     },
     "execution_count": 114,
     "metadata": {},
     "output_type": "execute_result"
    }
   ],
   "source": [
    "df_cap[:5]"
   ]
  },
  {
   "cell_type": "code",
   "execution_count": 115,
   "metadata": {
    "collapsed": false
   },
   "outputs": [
    {
     "data": {
      "image/png": "[encoded data removed]",
      "text/plain": [
       "<matplotlib.figure.Figure at 0x10c69d890>"
      ]
     },
     "metadata": {},
     "output_type": "display_data"
    }
   ],
   "source": [
    "df_cap = df_cap.sort('RowNumber')\n",
    "plt.plot(df_cap['total_selected_per'], df_cap['random_selection_per'], label = 'random model' )\n",
    "plt.plot(df_cap['total_selected_per'], df_cap['model_select_per'], label = 'Good Model' )\n",
    "plt.plot([50, 50], [80, 0], 'r--', lw=1, label = 'x = 50%, y = X')\n",
    "plt.plot([0, 50], [80, 80], 'r--', lw=1)\n",
    "plt.plot([10, 100], [99, 99], 'y-', lw=3, label = 'perfect model')\n",
    "plt.plot([0, 10], [0, 99], 'y-', lw=3)\n",
    "plt.legend(bbox_to_anchor=(1, 1), loc='upper left', ncol=1)\n",
    "plt.xlabel('Total Contacted')\n",
    "plt.ylabel('Total Purchased')\n",
    "plt.show()"
   ]
  },
  {
   "cell_type": "markdown",
   "metadata": {},
   "source": [
    "The closer the green line is to the yellow line, the better the model. The closer to the blue line, the worse. \n",
    "\n",
    "__Accuracy Ratio__:\n",
    "    - Take the area under the perfect model (yellow line) to the random model (blue line) - \n",
    "$$a_p$$\n",
    "    - Take the area under the good model (green line) to the random model (blue line) - \n",
    "    \n",
    "$$a_r$$\n",
    "    - So the accuracy ratio:\n",
    "    \n",
    "$$AR = \\frac{a_r}{a_p}$$\n",
    "\n",
    "that is between 0 and 1, and the closer the ratio is to 1 the better.\n",
    "\n",
    "__Rule of thumb:__\n",
    "\n",
    "Another way of evaluating the model is to look to the red line, x = 50%, and y = X:\n",
    "\n",
    "If:\n",
    "\n",
    "    90% < X < 100% -> Too Good (overfitting?)\n",
    "    80% < X < 90% -> Very Good\n",
    "    70% < X < 80% -> Good\n",
    "    60% < X < 70% -> Poor\n",
    "    X < 60% -> Rubbish"
   ]
  },
  {
   "cell_type": "markdown",
   "metadata": {},
   "source": [
    "#### Test model with test data"
   ]
  },
  {
   "cell_type": "code",
   "execution_count": 67,
   "metadata": {
    "collapsed": false
   },
   "outputs": [
    {
     "data": {
      "text/html": [
       "<div>\n",
       "<table border=\"1\" class=\"dataframe\">\n",
       "  <thead>\n",
       "    <tr style=\"text-align: right;\">\n",
       "      <th></th>\n",
       "      <th>RowNumber</th>\n",
       "      <th>CustomerId</th>\n",
       "      <th>Surname</th>\n",
       "      <th>CreditScore</th>\n",
       "      <th>Geography</th>\n",
       "      <th>Gender</th>\n",
       "      <th>Age</th>\n",
       "      <th>Tenure</th>\n",
       "      <th>Balance</th>\n",
       "      <th>NumOfProducts</th>\n",
       "      <th>HasCrCard</th>\n",
       "      <th>IsActiveMember</th>\n",
       "      <th>EstimatedSalary</th>\n",
       "      <th>Exited</th>\n",
       "    </tr>\n",
       "  </thead>\n",
       "  <tbody>\n",
       "    <tr>\n",
       "      <th>0</th>\n",
       "      <td>10001</td>\n",
       "      <td>15798485</td>\n",
       "      <td>Copley</td>\n",
       "      <td>565</td>\n",
       "      <td>France</td>\n",
       "      <td>Male</td>\n",
       "      <td>31</td>\n",
       "      <td>1</td>\n",
       "      <td>0.00</td>\n",
       "      <td>1</td>\n",
       "      <td>0</td>\n",
       "      <td>1</td>\n",
       "      <td>20443.08</td>\n",
       "      <td>0</td>\n",
       "    </tr>\n",
       "    <tr>\n",
       "      <th>1</th>\n",
       "      <td>10002</td>\n",
       "      <td>15588959</td>\n",
       "      <td>T'ang</td>\n",
       "      <td>569</td>\n",
       "      <td>France</td>\n",
       "      <td>Male</td>\n",
       "      <td>34</td>\n",
       "      <td>4</td>\n",
       "      <td>0.00</td>\n",
       "      <td>1</td>\n",
       "      <td>0</td>\n",
       "      <td>1</td>\n",
       "      <td>4045.90</td>\n",
       "      <td>0</td>\n",
       "    </tr>\n",
       "    <tr>\n",
       "      <th>2</th>\n",
       "      <td>10003</td>\n",
       "      <td>15624896</td>\n",
       "      <td>Ku</td>\n",
       "      <td>669</td>\n",
       "      <td>France</td>\n",
       "      <td>Female</td>\n",
       "      <td>20</td>\n",
       "      <td>7</td>\n",
       "      <td>0.00</td>\n",
       "      <td>2</td>\n",
       "      <td>1</td>\n",
       "      <td>0</td>\n",
       "      <td>128838.67</td>\n",
       "      <td>0</td>\n",
       "    </tr>\n",
       "    <tr>\n",
       "      <th>3</th>\n",
       "      <td>10004</td>\n",
       "      <td>15639629</td>\n",
       "      <td>McConnan</td>\n",
       "      <td>694</td>\n",
       "      <td>France</td>\n",
       "      <td>Male</td>\n",
       "      <td>39</td>\n",
       "      <td>4</td>\n",
       "      <td>173255.48</td>\n",
       "      <td>1</td>\n",
       "      <td>1</td>\n",
       "      <td>1</td>\n",
       "      <td>81293.10</td>\n",
       "      <td>0</td>\n",
       "    </tr>\n",
       "    <tr>\n",
       "      <th>4</th>\n",
       "      <td>10005</td>\n",
       "      <td>15638852</td>\n",
       "      <td>Ts'ui</td>\n",
       "      <td>504</td>\n",
       "      <td>Spain</td>\n",
       "      <td>Male</td>\n",
       "      <td>28</td>\n",
       "      <td>10</td>\n",
       "      <td>109291.36</td>\n",
       "      <td>1</td>\n",
       "      <td>1</td>\n",
       "      <td>1</td>\n",
       "      <td>187593.15</td>\n",
       "      <td>0</td>\n",
       "    </tr>\n",
       "  </tbody>\n",
       "</table>\n",
       "</div>"
      ],
      "text/plain": [
       "   RowNumber  CustomerId   Surname  CreditScore Geography  Gender  Age  \\\n",
       "0      10001    15798485    Copley          565    France    Male   31   \n",
       "1      10002    15588959     T'ang          569    France    Male   34   \n",
       "2      10003    15624896        Ku          669    France  Female   20   \n",
       "3      10004    15639629  McConnan          694    France    Male   39   \n",
       "4      10005    15638852     Ts'ui          504     Spain    Male   28   \n",
       "\n",
       "   Tenure    Balance  NumOfProducts  HasCrCard  IsActiveMember  \\\n",
       "0       1       0.00              1          0               1   \n",
       "1       4       0.00              1          0               1   \n",
       "2       7       0.00              2          1               0   \n",
       "3       4  173255.48              1          1               1   \n",
       "4      10  109291.36              1          1               1   \n",
       "\n",
       "   EstimatedSalary  Exited  \n",
       "0         20443.08       0  \n",
       "1          4045.90       0  \n",
       "2        128838.67       0  \n",
       "3         81293.10       0  \n",
       "4        187593.15       0  "
      ]
     },
     "execution_count": 67,
     "metadata": {},
     "output_type": "execute_result"
    }
   ],
   "source": [
    "df_test = pandas.DataFrame.from_csv('Churn-Modelling-Test-Data.csv', index_col=None)\n",
    "df_test[:5]"
   ]
  },
  {
   "cell_type": "code",
   "execution_count": 68,
   "metadata": {
    "collapsed": true
   },
   "outputs": [],
   "source": [
    "df_test = sm.add_constant(df_test)"
   ]
  },
  {
   "cell_type": "code",
   "execution_count": 69,
   "metadata": {
    "collapsed": true
   },
   "outputs": [],
   "source": [
    "df_test_y = df_test['Exited']\n",
    "df_test = df_test.drop(['Exited'], axis = 1)"
   ]
  },
  {
   "cell_type": "code",
   "execution_count": 70,
   "metadata": {
    "collapsed": false
   },
   "outputs": [
    {
     "data": {
      "text/html": [
       "<div>\n",
       "<table border=\"1\" class=\"dataframe\">\n",
       "  <thead>\n",
       "    <tr style=\"text-align: right;\">\n",
       "      <th></th>\n",
       "      <th>France</th>\n",
       "      <th>Germany</th>\n",
       "      <th>Spain</th>\n",
       "      <th>Female</th>\n",
       "      <th>Male</th>\n",
       "      <th>const</th>\n",
       "      <th>RowNumber</th>\n",
       "      <th>CustomerId</th>\n",
       "      <th>Surname</th>\n",
       "      <th>CreditScore</th>\n",
       "      <th>Geography</th>\n",
       "      <th>Gender</th>\n",
       "      <th>Age</th>\n",
       "      <th>Tenure</th>\n",
       "      <th>Balance</th>\n",
       "      <th>NumOfProducts</th>\n",
       "      <th>HasCrCard</th>\n",
       "      <th>IsActiveMember</th>\n",
       "      <th>EstimatedSalary</th>\n",
       "    </tr>\n",
       "  </thead>\n",
       "  <tbody>\n",
       "    <tr>\n",
       "      <th>0</th>\n",
       "      <td>1</td>\n",
       "      <td>0</td>\n",
       "      <td>0</td>\n",
       "      <td>0</td>\n",
       "      <td>1</td>\n",
       "      <td>1</td>\n",
       "      <td>10001</td>\n",
       "      <td>15798485</td>\n",
       "      <td>Copley</td>\n",
       "      <td>565</td>\n",
       "      <td>France</td>\n",
       "      <td>Male</td>\n",
       "      <td>31</td>\n",
       "      <td>1</td>\n",
       "      <td>0.00</td>\n",
       "      <td>1</td>\n",
       "      <td>0</td>\n",
       "      <td>1</td>\n",
       "      <td>20443.08</td>\n",
       "    </tr>\n",
       "    <tr>\n",
       "      <th>1</th>\n",
       "      <td>1</td>\n",
       "      <td>0</td>\n",
       "      <td>0</td>\n",
       "      <td>0</td>\n",
       "      <td>1</td>\n",
       "      <td>1</td>\n",
       "      <td>10002</td>\n",
       "      <td>15588959</td>\n",
       "      <td>T'ang</td>\n",
       "      <td>569</td>\n",
       "      <td>France</td>\n",
       "      <td>Male</td>\n",
       "      <td>34</td>\n",
       "      <td>4</td>\n",
       "      <td>0.00</td>\n",
       "      <td>1</td>\n",
       "      <td>0</td>\n",
       "      <td>1</td>\n",
       "      <td>4045.90</td>\n",
       "    </tr>\n",
       "    <tr>\n",
       "      <th>2</th>\n",
       "      <td>1</td>\n",
       "      <td>0</td>\n",
       "      <td>0</td>\n",
       "      <td>1</td>\n",
       "      <td>0</td>\n",
       "      <td>1</td>\n",
       "      <td>10003</td>\n",
       "      <td>15624896</td>\n",
       "      <td>Ku</td>\n",
       "      <td>669</td>\n",
       "      <td>France</td>\n",
       "      <td>Female</td>\n",
       "      <td>20</td>\n",
       "      <td>7</td>\n",
       "      <td>0.00</td>\n",
       "      <td>2</td>\n",
       "      <td>1</td>\n",
       "      <td>0</td>\n",
       "      <td>128838.67</td>\n",
       "    </tr>\n",
       "    <tr>\n",
       "      <th>3</th>\n",
       "      <td>1</td>\n",
       "      <td>0</td>\n",
       "      <td>0</td>\n",
       "      <td>0</td>\n",
       "      <td>1</td>\n",
       "      <td>1</td>\n",
       "      <td>10004</td>\n",
       "      <td>15639629</td>\n",
       "      <td>McConnan</td>\n",
       "      <td>694</td>\n",
       "      <td>France</td>\n",
       "      <td>Male</td>\n",
       "      <td>39</td>\n",
       "      <td>4</td>\n",
       "      <td>173255.48</td>\n",
       "      <td>1</td>\n",
       "      <td>1</td>\n",
       "      <td>1</td>\n",
       "      <td>81293.10</td>\n",
       "    </tr>\n",
       "    <tr>\n",
       "      <th>4</th>\n",
       "      <td>0</td>\n",
       "      <td>0</td>\n",
       "      <td>1</td>\n",
       "      <td>0</td>\n",
       "      <td>1</td>\n",
       "      <td>1</td>\n",
       "      <td>10005</td>\n",
       "      <td>15638852</td>\n",
       "      <td>Ts'ui</td>\n",
       "      <td>504</td>\n",
       "      <td>Spain</td>\n",
       "      <td>Male</td>\n",
       "      <td>28</td>\n",
       "      <td>10</td>\n",
       "      <td>109291.36</td>\n",
       "      <td>1</td>\n",
       "      <td>1</td>\n",
       "      <td>1</td>\n",
       "      <td>187593.15</td>\n",
       "    </tr>\n",
       "  </tbody>\n",
       "</table>\n",
       "</div>"
      ],
      "text/plain": [
       "   France  Germany  Spain  Female  Male  const  RowNumber  CustomerId  \\\n",
       "0       1        0      0       0     1      1      10001    15798485   \n",
       "1       1        0      0       0     1      1      10002    15588959   \n",
       "2       1        0      0       1     0      1      10003    15624896   \n",
       "3       1        0      0       0     1      1      10004    15639629   \n",
       "4       0        0      1       0     1      1      10005    15638852   \n",
       "\n",
       "    Surname  CreditScore Geography  Gender  Age  Tenure    Balance  \\\n",
       "0    Copley          565    France    Male   31       1       0.00   \n",
       "1     T'ang          569    France    Male   34       4       0.00   \n",
       "2        Ku          669    France  Female   20       7       0.00   \n",
       "3  McConnan          694    France    Male   39       4  173255.48   \n",
       "4     Ts'ui          504     Spain    Male   28      10  109291.36   \n",
       "\n",
       "   NumOfProducts  HasCrCard  IsActiveMember  EstimatedSalary  \n",
       "0              1          0               1         20443.08  \n",
       "1              1          0               1          4045.90  \n",
       "2              2          1               0        128838.67  \n",
       "3              1          1               1         81293.10  \n",
       "4              1          1               1        187593.15  "
      ]
     },
     "execution_count": 70,
     "metadata": {},
     "output_type": "execute_result"
    }
   ],
   "source": [
    "dummy = pandas.get_dummies(df_test['Gender'])\n",
    "df_test= dummy.join(df_test)\n",
    "dummy = pandas.get_dummies(df_test['Geography'])\n",
    "df_test = dummy.join(df_test)\n",
    "df_test[:5]"
   ]
  },
  {
   "cell_type": "code",
   "execution_count": 71,
   "metadata": {
    "collapsed": true
   },
   "outputs": [],
   "source": [
    "df_test['Balance_log'] = df_test['Balance'].map(lambda x: np.log10(x+1))"
   ]
  },
  {
   "cell_type": "markdown",
   "metadata": {},
   "source": [
    "Check the parameters included in the final model (model11) and rerun the model with the same parameters but now including the test data:"
   ]
  },
  {
   "cell_type": "code",
   "execution_count": 125,
   "metadata": {
    "collapsed": false
   },
   "outputs": [
    {
     "data": {
      "text/plain": [
       "const            -3.912576\n",
       "Germany           0.747595\n",
       "Female            0.526721\n",
       "CreditScore      -0.000675\n",
       "Age               0.072655\n",
       "Tenure           -0.015879\n",
       "NumOfProducts    -0.095020\n",
       "IsActiveMember   -1.075776\n",
       "Balance_log       0.069026\n",
       "dtype: float64"
      ]
     },
     "execution_count": 125,
     "metadata": {},
     "output_type": "execute_result"
    }
   ],
   "source": [
    "model11.params"
   ]
  },
  {
   "cell_type": "code",
   "execution_count": 126,
   "metadata": {
    "collapsed": true
   },
   "outputs": [],
   "source": [
    "df_test = df_test[['Germany', 'Female', 'CreditScore', 'Age', 'Tenure', 'NumOfProducts', 'IsActiveMember', 'Balance_log', 'const']]"
   ]
  },
  {
   "cell_type": "code",
   "execution_count": 127,
   "metadata": {
    "collapsed": true
   },
   "outputs": [],
   "source": [
    "df_total = df_final.append(df_test)"
   ]
  },
  {
   "cell_type": "code",
   "execution_count": 128,
   "metadata": {
    "collapsed": false
   },
   "outputs": [
    {
     "name": "stdout",
     "output_type": "stream",
     "text": [
      "Optimization terminated successfully.\n",
      "         Current function value: 0.428257\n",
      "         Iterations 6\n"
     ]
    }
   ],
   "source": [
    "model_final = smdis.Logit(df_y, df_total[:10000]).fit()"
   ]
  },
  {
   "cell_type": "code",
   "execution_count": 139,
   "metadata": {
    "collapsed": false
   },
   "outputs": [
    {
     "data": {
      "text/plain": [
       "array([ 0.03811657,  0.04476137,  0.06383845,  0.08165338,  0.03915974])"
      ]
     },
     "execution_count": 139,
     "metadata": {},
     "output_type": "execute_result"
    }
   ],
   "source": [
    "y_pred = model_final.predict(df_total[10000:])\n",
    "y_pred[:5]"
   ]
  },
  {
   "cell_type": "markdown",
   "metadata": {},
   "source": [
    "Let's construct the CAP curve:"
   ]
  },
  {
   "cell_type": "code",
   "execution_count": 142,
   "metadata": {
    "collapsed": false
   },
   "outputs": [
    {
     "data": {
      "text/html": [
       "<div>\n",
       "<table border=\"1\" class=\"dataframe\">\n",
       "  <thead>\n",
       "    <tr style=\"text-align: right;\">\n",
       "      <th></th>\n",
       "      <th>phat</th>\n",
       "      <th>Exited</th>\n",
       "    </tr>\n",
       "  </thead>\n",
       "  <tbody>\n",
       "    <tr>\n",
       "      <th>957</th>\n",
       "      <td>0.877614</td>\n",
       "      <td>1</td>\n",
       "    </tr>\n",
       "    <tr>\n",
       "      <th>249</th>\n",
       "      <td>0.857731</td>\n",
       "      <td>1</td>\n",
       "    </tr>\n",
       "    <tr>\n",
       "      <th>429</th>\n",
       "      <td>0.832754</td>\n",
       "      <td>1</td>\n",
       "    </tr>\n",
       "    <tr>\n",
       "      <th>209</th>\n",
       "      <td>0.826484</td>\n",
       "      <td>1</td>\n",
       "    </tr>\n",
       "    <tr>\n",
       "      <th>693</th>\n",
       "      <td>0.826381</td>\n",
       "      <td>0</td>\n",
       "    </tr>\n",
       "  </tbody>\n",
       "</table>\n",
       "</div>"
      ],
      "text/plain": [
       "         phat  Exited\n",
       "957  0.877614       1\n",
       "249  0.857731       1\n",
       "429  0.832754       1\n",
       "209  0.826484       1\n",
       "693  0.826381       0"
      ]
     },
     "execution_count": 142,
     "metadata": {},
     "output_type": "execute_result"
    }
   ],
   "source": [
    "df_pred = pandas.DataFrame()\n",
    "df_pred['phat'] = y_pred\n",
    "df_pred['Exited'] = df_test_y\n",
    "df_pred = df_pred.sort( 'phat', ascending=False)\n",
    "df_pred[:5]"
   ]
  },
  {
   "cell_type": "code",
   "execution_count": 152,
   "metadata": {
    "collapsed": false
   },
   "outputs": [
    {
     "name": "stdout",
     "output_type": "stream",
     "text": [
      "Total Exited: 260\n",
      "Total number of clients: 1000\n",
      "Ratio of exits: 0.26\n"
     ]
    }
   ],
   "source": [
    "Total_Exited = sum(df_pred['Exited'])\n",
    "print \"Total Exited: %s\" % Total_Exited\n",
    "Total_Records = len(df_pred)\n",
    "print \"Total number of clients: %s\" % Total_Records\n",
    "Exit_Ratio = Total_Exited/Total_Records\n",
    "print \"Ratio of exits: %s\" % Exit_Ratio"
   ]
  },
  {
   "cell_type": "code",
   "execution_count": 143,
   "metadata": {
    "collapsed": true
   },
   "outputs": [],
   "source": [
    "df_pred['total_selected'] = range(1,len(df_pred)+1)\n",
    "df_pred['total_selected_per'] = df_pred['total_selected'].map(lambda x: round(x*100/Total_Records, 1))\n",
    "df_pred['random_selection'] = df_pred['total_selected'].map(lambda x: x*Exit_Ratio)\n",
    "df_pred['random_selection_per'] = df_pred['total_selected'].map(lambda x: round(x*100/Total_Records, 1))"
   ]
  },
  {
   "cell_type": "code",
   "execution_count": 144,
   "metadata": {
    "collapsed": true
   },
   "outputs": [],
   "source": [
    "df_pred = df_pred.sort('phat', ascending=False)"
   ]
  },
  {
   "cell_type": "code",
   "execution_count": 145,
   "metadata": {
    "collapsed": true
   },
   "outputs": [],
   "source": [
    "df_pred['model_select'] = df_pred.Exited.cumsum()\n",
    "df_pred['model_select_per'] = df_pred['model_select'].map(lambda x: round(x*100/Total_Exited, 1))"
   ]
  },
  {
   "cell_type": "code",
   "execution_count": 146,
   "metadata": {
    "collapsed": false
   },
   "outputs": [
    {
     "data": {
      "text/html": [
       "<div>\n",
       "<table border=\"1\" class=\"dataframe\">\n",
       "  <thead>\n",
       "    <tr style=\"text-align: right;\">\n",
       "      <th></th>\n",
       "      <th>phat</th>\n",
       "      <th>Exited</th>\n",
       "      <th>total_selected</th>\n",
       "      <th>total_selected_per</th>\n",
       "      <th>random_selection</th>\n",
       "      <th>random_selection_per</th>\n",
       "      <th>model_select</th>\n",
       "      <th>model_select_per</th>\n",
       "    </tr>\n",
       "  </thead>\n",
       "  <tbody>\n",
       "    <tr>\n",
       "      <th>957</th>\n",
       "      <td>0.877614</td>\n",
       "      <td>1</td>\n",
       "      <td>1</td>\n",
       "      <td>0.1</td>\n",
       "      <td>0.26</td>\n",
       "      <td>0.1</td>\n",
       "      <td>1</td>\n",
       "      <td>0.4</td>\n",
       "    </tr>\n",
       "    <tr>\n",
       "      <th>249</th>\n",
       "      <td>0.857731</td>\n",
       "      <td>1</td>\n",
       "      <td>2</td>\n",
       "      <td>0.2</td>\n",
       "      <td>0.52</td>\n",
       "      <td>0.2</td>\n",
       "      <td>2</td>\n",
       "      <td>0.8</td>\n",
       "    </tr>\n",
       "    <tr>\n",
       "      <th>429</th>\n",
       "      <td>0.832754</td>\n",
       "      <td>1</td>\n",
       "      <td>3</td>\n",
       "      <td>0.3</td>\n",
       "      <td>0.78</td>\n",
       "      <td>0.3</td>\n",
       "      <td>3</td>\n",
       "      <td>1.2</td>\n",
       "    </tr>\n",
       "    <tr>\n",
       "      <th>209</th>\n",
       "      <td>0.826484</td>\n",
       "      <td>1</td>\n",
       "      <td>4</td>\n",
       "      <td>0.4</td>\n",
       "      <td>1.04</td>\n",
       "      <td>0.4</td>\n",
       "      <td>4</td>\n",
       "      <td>1.5</td>\n",
       "    </tr>\n",
       "    <tr>\n",
       "      <th>693</th>\n",
       "      <td>0.826381</td>\n",
       "      <td>0</td>\n",
       "      <td>5</td>\n",
       "      <td>0.5</td>\n",
       "      <td>1.30</td>\n",
       "      <td>0.5</td>\n",
       "      <td>4</td>\n",
       "      <td>1.5</td>\n",
       "    </tr>\n",
       "  </tbody>\n",
       "</table>\n",
       "</div>"
      ],
      "text/plain": [
       "         phat  Exited  total_selected  total_selected_per  random_selection  \\\n",
       "957  0.877614       1               1                 0.1              0.26   \n",
       "249  0.857731       1               2                 0.2              0.52   \n",
       "429  0.832754       1               3                 0.3              0.78   \n",
       "209  0.826484       1               4                 0.4              1.04   \n",
       "693  0.826381       0               5                 0.5              1.30   \n",
       "\n",
       "     random_selection_per  model_select  model_select_per  \n",
       "957                   0.1             1               0.4  \n",
       "249                   0.2             2               0.8  \n",
       "429                   0.3             3               1.2  \n",
       "209                   0.4             4               1.5  \n",
       "693                   0.5             4               1.5  "
      ]
     },
     "execution_count": 146,
     "metadata": {},
     "output_type": "execute_result"
    }
   ],
   "source": [
    "df_pred[:5]"
   ]
  },
  {
   "cell_type": "code",
   "execution_count": 151,
   "metadata": {
    "collapsed": false
   },
   "outputs": [
    {
     "data": {
      "image/png": "[encoded data removed]",
      "text/plain": [
       "<matplotlib.figure.Figure at 0x1086bc0d0>"
      ]
     },
     "metadata": {},
     "output_type": "display_data"
    }
   ],
   "source": [
    "plt.plot(df_pred['total_selected_per'], df_pred['random_selection_per'], label = 'random model' )\n",
    "plt.plot(df_pred['total_selected_per'], df_pred['model_select_per'], label = 'Good Model' )\n",
    "plt.plot([50, 50], [76, 0], 'r--', lw=1, label = 'x = 50%, y = X')\n",
    "plt.plot([0, 50], [76, 76], 'r--', lw=1)\n",
    "plt.plot([10, 100], [99, 99], 'y-', lw=3, label = 'perfect model')\n",
    "plt.plot([0, 10], [0, 99], 'y-', lw=3)\n",
    "plt.legend(bbox_to_anchor=(1, 1), loc='upper left', ncol=1)\n",
    "plt.xlabel('Total Contacted')\n",
    "plt.ylabel('Total Purchased')\n",
    "plt.show()"
   ]
  },
  {
   "cell_type": "markdown",
   "metadata": {},
   "source": [
    "__Conclusions__:\n",
    "\n",
    "- The model is performing above 80%, so a bit worse than the training data (a drop of about 3%).\n",
    "- The concentration of data is about 10 times less than the training data which explains the ruggedness of the curve."
   ]
  },
  {
   "cell_type": "markdown",
   "metadata": {},
   "source": [
    "### Parameters Interpretation"
   ]
  },
  {
   "cell_type": "markdown",
   "metadata": {},
   "source": [
    "Odds ratio:\n",
    "\n",
    "$$odds = \\frac{p}{1-p}$$\n",
    "\n",
    "Multiple logistic regression:\n",
    "\n",
    "$$ln(\\frac{p}{1-p}) = b_0 + b_0x_1 + ... + b_nx_n$$\n",
    "\n",
    "So we can write:\n",
    "\n",
    "$$ln(odds) = b_0 + b_0x_1 + ... + b_nx_n$$\n",
    "\n",
    "$$<=> odds = e^{b_0 + b_0x_1 + ... + b_nx_n}$$\n",
    "\n",
    "$$<=> odds = e^{b_0} + e^{b_0x_1} + ... + e^{b_nx_n}$$\n",
    "\n",
    "which means that, if we increase an unit to the $$x_1$$ variable,  for example:\n",
    "\n",
    "$$e^{b_1x_1} -> e^{b_1(x_1 + 1)} = e^{b_1x_1}e^{b_1}$$\n",
    "\n",
    "which means that, increading an independente variable, e.g. $$x_1$$, by 1 unit, will increase the odds by a multiplicative factor of $$e^{b_i}$$\n",
    "\n",
    "So let's transform the coefficients of our model into odds ratios:\n",
    "\n"
   ]
  },
  {
   "cell_type": "code",
   "execution_count": 166,
   "metadata": {
    "collapsed": false
   },
   "outputs": [
    {
     "data": {
      "text/plain": [
       "Age               1.075360\n",
       "Balance_log       1.071464\n",
       "CreditScore       0.999325\n",
       "Female            1.693371\n",
       "Germany           2.111916\n",
       "IsActiveMember    0.341033\n",
       "NumOfProducts     0.909355\n",
       "Tenure            0.984246\n",
       "const             0.019989\n",
       "dtype: float64"
      ]
     },
     "execution_count": 166,
     "metadata": {},
     "output_type": "execute_result"
    }
   ],
   "source": [
    "odds_ratio = np.exp(model_final.params)\n",
    "odds_ratio"
   ]
  },
  {
   "cell_type": "markdown",
   "metadata": {},
   "source": [
    "- \"Germany\" has the greater odds ratio, which means that being in Germany has the highest impact for people leaving the bank - most important independent variable that influences the model. If we change from not Germany to Germany, the odds ratio increases by 2.1.\n",
    "- The next one is gender. One we go from a male customer to a female customer with all else held constant, the odds ratio of a female custormer leaving is 1.7 times grater that a Male customer leaving. So basically the odds ratio increases by 70%.\n",
    "- Being an \"ActiveMember\" has the oppositive effect because the value is less than 1. This means that when we go from a member who is not active to a member that is active, the odds ratio gets multiplied by 0.34. So basically it drops by 66% which is also great in terms of retention.\n",
    "- Anything above 0.8 and bellow 1.2 has not a great impact and can be ignored.\n"
   ]
  }
 ],
 "metadata": {
  "kernelspec": {
   "display_name": "Python 2",
   "language": "python",
   "name": "python2"
  },
  "language_info": {
   "codemirror_mode": {
    "name": "ipython",
    "version": 2
   },
   "file_extension": ".py",
   "mimetype": "text/x-python",
   "name": "python",
   "nbconvert_exporter": "python",
   "pygments_lexer": "ipython2",
   "version": "2.7.10"
  }
 },
 "nbformat": 4,
 "nbformat_minor": 0
}
